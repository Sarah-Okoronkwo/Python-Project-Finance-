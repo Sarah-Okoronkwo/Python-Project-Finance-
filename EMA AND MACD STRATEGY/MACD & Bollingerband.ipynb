{
 "cells": [
  {
   "cell_type": "code",
   "execution_count": 3,
   "id": "4bb738bb",
   "metadata": {},
   "outputs": [],
   "source": [
    "import talib\n",
    "\n",
    "import pandas_datareader.data as web\n",
    "import pandas as pd\n",
    "import numpy as np\n",
    "import matplotlib.pyplot as plt\n",
    "import yfinance as yf"
   ]
  },
  {
   "cell_type": "markdown",
   "id": "30eb4afc",
   "metadata": {},
   "source": [
    "## DEFINING INDICATORS\n",
    "This is a list of indicators provided by TA-Lib to develop your trading strategies."
   ]
  },
  {
   "cell_type": "code",
   "execution_count": 4,
   "id": "0f10517b",
   "metadata": {},
   "outputs": [
    {
     "ename": "SyntaxError",
     "evalue": "invalid syntax. Perhaps you forgot a comma? (667692244.py, line 1)",
     "output_type": "error",
     "traceback": [
      "\u001b[1;36m  Cell \u001b[1;32mIn[4], line 1\u001b[1;36m\u001b[0m\n\u001b[1;33m    Indicators [RSI, Only MACD Histogram(12, 26, 9)]\u001b[0m\n\u001b[1;37m                     ^\u001b[0m\n\u001b[1;31mSyntaxError\u001b[0m\u001b[1;31m:\u001b[0m invalid syntax. Perhaps you forgot a comma?\n"
     ]
    }
   ],
   "source": [
    "Indicators [RSI, Only MACD Histogram(12, 26, 9)]"
   ]
  },
  {
   "cell_type": "markdown",
   "id": "de688e57",
   "metadata": {},
   "source": [
    "# TRADING STRATEGY\n",
    "In this trading strategy, we define entry and exit conditions based on the selected indicators. The conditions are as follows:\n",
    "\n",
    "### Buy signal \n",
    "\n",
    " - Entry Condition:\n",
    "       - Condition 1:  Check if RSI crosses above the Zero line.\n",
    "       - Condition 2: Check if the MACD histogram crosses above the zero line.\n",
    "\n",
    " - Exit Condition:\n",
    "       - Condition 1: Check if the MACD histogram crosses below the zero line.\n",
    "\n",
    "\n",
    "### Sell signal \n",
    "\n",
    " - Entry Condition:\n",
    "       - Condition 1: Check if RSI crosses below the Zero line.\n",
    "       - Condition 2: Check if the MACD histogram crosses below the zero line.\n",
    "\n",
    " - Exit Condition:\n",
    "       - Condition 1:  Check if the MACD histogram crosses above the zero line.\n",
    "\n",
    "\n",
    "\n",
    "    \n",
    "    \n",
    "### Generating Signals:\n",
    "\n",
    "   - A DataFrame named signals is created to store the buy/sell signals.\n",
    "   - The 'positions' column is initialized with zeros (no position).\n",
    "   - The entry_condition is used to set the 'positions' value to 1 (buy signal) where the conditions are met.\n",
    "   - The exit_condition is used to set the 'positions' value to -1 (sell signal) where the condition is met."
   ]
  },
  {
   "cell_type": "code",
   "execution_count": 5,
   "id": "b92d1bae",
   "metadata": {},
   "outputs": [],
   "source": [
    "# Define your trading strategy\n",
    "def strategy(data):\n",
    "    # Define the entry and exit conditions for buy signal\n",
    "    condition1_buy = data['MACD'] > data['MACD_SIGNAL']\n",
    "\n",
    "    entry_condition_buy = condition1_buy \n",
    "    exit_condition_buy = data['Close'] < data['MIDDLEBAND']\n",
    "    \n",
    "    # Define the entry and exit conditions for sell signal\n",
    "    condition1_sell = data['MACD'] < data['MACD_SIGNAL']\n",
    "\n",
    "    entry_condition_sell = condition1_sell \n",
    "    exit_condition_sell = data['Close'] > data['MIDDLEBAND']\n",
    "\n",
    "    # Generate the signals\n",
    "    signals = pd.DataFrame(index=data.index)\n",
    "    signals['positions'] = 0\n",
    "    signals.loc[entry_condition_buy, 'positions'] = 1\n",
    "    signals.loc[exit_condition_buy, 'positions'] = -1\n",
    "    signals.loc[entry_condition_sell, 'positions'] = -1\n",
    "    signals.loc[exit_condition_sell, 'positions'] = 1\n",
    "\n",
    "    return signals\n"
   ]
  },
  {
   "cell_type": "markdown",
   "id": "0a95e4f0",
   "metadata": {},
   "source": [
    "## HISTORICAL DATA\n",
    "Next, we download historical stock data for the specified symbol (in this case, 'SPY') from the start date to the end date using the yfinance library."
   ]
  },
  {
   "cell_type": "code",
   "execution_count": 6,
   "id": "5dbb4e88",
   "metadata": {},
   "outputs": [
    {
     "name": "stdout",
     "output_type": "stream",
     "text": [
      "[*********************100%***********************]  1 of 1 completed\n"
     ]
    }
   ],
   "source": [
    "symbol = 'SPY'\n",
    "start_date = '2020-01-01'\n",
    "end_date = '2023-01-01'\n",
    "\n",
    "data = yf.download(symbol, start_date, end_date)"
   ]
  },
  {
   "cell_type": "code",
   "execution_count": 7,
   "id": "3e38759e",
   "metadata": {},
   "outputs": [
    {
     "data": {
      "text/html": [
       "<div>\n",
       "<style scoped>\n",
       "    .dataframe tbody tr th:only-of-type {\n",
       "        vertical-align: middle;\n",
       "    }\n",
       "\n",
       "    .dataframe tbody tr th {\n",
       "        vertical-align: top;\n",
       "    }\n",
       "\n",
       "    .dataframe thead th {\n",
       "        text-align: right;\n",
       "    }\n",
       "</style>\n",
       "<table border=\"1\" class=\"dataframe\">\n",
       "  <thead>\n",
       "    <tr style=\"text-align: right;\">\n",
       "      <th></th>\n",
       "      <th>Open</th>\n",
       "      <th>High</th>\n",
       "      <th>Low</th>\n",
       "      <th>Close</th>\n",
       "      <th>Adj Close</th>\n",
       "      <th>Volume</th>\n",
       "    </tr>\n",
       "    <tr>\n",
       "      <th>Date</th>\n",
       "      <th></th>\n",
       "      <th></th>\n",
       "      <th></th>\n",
       "      <th></th>\n",
       "      <th></th>\n",
       "      <th></th>\n",
       "    </tr>\n",
       "  </thead>\n",
       "  <tbody>\n",
       "    <tr>\n",
       "      <th>2020-01-02</th>\n",
       "      <td>323.540009</td>\n",
       "      <td>324.890015</td>\n",
       "      <td>322.529999</td>\n",
       "      <td>324.869995</td>\n",
       "      <td>307.375641</td>\n",
       "      <td>59151200</td>\n",
       "    </tr>\n",
       "    <tr>\n",
       "      <th>2020-01-03</th>\n",
       "      <td>321.160004</td>\n",
       "      <td>323.640015</td>\n",
       "      <td>321.100006</td>\n",
       "      <td>322.410004</td>\n",
       "      <td>305.048187</td>\n",
       "      <td>77709700</td>\n",
       "    </tr>\n",
       "    <tr>\n",
       "      <th>2020-01-06</th>\n",
       "      <td>320.489990</td>\n",
       "      <td>323.730011</td>\n",
       "      <td>320.359985</td>\n",
       "      <td>323.640015</td>\n",
       "      <td>306.211853</td>\n",
       "      <td>55653900</td>\n",
       "    </tr>\n",
       "    <tr>\n",
       "      <th>2020-01-07</th>\n",
       "      <td>323.019989</td>\n",
       "      <td>323.540009</td>\n",
       "      <td>322.239990</td>\n",
       "      <td>322.730011</td>\n",
       "      <td>305.350922</td>\n",
       "      <td>40496400</td>\n",
       "    </tr>\n",
       "    <tr>\n",
       "      <th>2020-01-08</th>\n",
       "      <td>322.940002</td>\n",
       "      <td>325.779999</td>\n",
       "      <td>322.670013</td>\n",
       "      <td>324.450012</td>\n",
       "      <td>306.978271</td>\n",
       "      <td>68296000</td>\n",
       "    </tr>\n",
       "  </tbody>\n",
       "</table>\n",
       "</div>"
      ],
      "text/plain": [
       "                  Open        High         Low       Close   Adj Close  \\\n",
       "Date                                                                     \n",
       "2020-01-02  323.540009  324.890015  322.529999  324.869995  307.375641   \n",
       "2020-01-03  321.160004  323.640015  321.100006  322.410004  305.048187   \n",
       "2020-01-06  320.489990  323.730011  320.359985  323.640015  306.211853   \n",
       "2020-01-07  323.019989  323.540009  322.239990  322.730011  305.350922   \n",
       "2020-01-08  322.940002  325.779999  322.670013  324.450012  306.978271   \n",
       "\n",
       "              Volume  \n",
       "Date                  \n",
       "2020-01-02  59151200  \n",
       "2020-01-03  77709700  \n",
       "2020-01-06  55653900  \n",
       "2020-01-07  40496400  \n",
       "2020-01-08  68296000  "
      ]
     },
     "execution_count": 7,
     "metadata": {},
     "output_type": "execute_result"
    }
   ],
   "source": [
    "data.head()"
   ]
  },
  {
   "cell_type": "markdown",
   "id": "308b92bf",
   "metadata": {},
   "source": [
    "## CALCULATING INDICATORS\n"
   ]
  },
  {
   "cell_type": "code",
   "execution_count": 8,
   "id": "203fb588",
   "metadata": {},
   "outputs": [],
   "source": [
    "# Calculate the indicators\n",
    "#data['CCI'] = talib.RSI(data['Close'], timeperiod=20)\n",
    "upperband, middleband, lowerband = talib.BBANDS(data['Close'], timeperiod=5, nbdevup=2, nbdevdn=2, matype=0)\n",
    "data['UPPERBAND'] = upperband\n",
    "data['MIDDLEBAND'] = middleband\n",
    "data['LOWERBAND'] = lowerband\n",
    "\n",
    "# Calculate MACD\n",
    "macd, macd_signal, macd_hist = talib.MACD(data['Close'], fastperiod=12, slowperiod=26, signalperiod=9)\n",
    "data['MACD'] = macd\n",
    "data['MACD_SIGNAL'] = macd_signal\n",
    "data['MACD_HIST'] = macd_hist"
   ]
  },
  {
   "cell_type": "code",
   "execution_count": 9,
   "id": "84791f28",
   "metadata": {},
   "outputs": [
    {
     "data": {
      "text/html": [
       "<div>\n",
       "<style scoped>\n",
       "    .dataframe tbody tr th:only-of-type {\n",
       "        vertical-align: middle;\n",
       "    }\n",
       "\n",
       "    .dataframe tbody tr th {\n",
       "        vertical-align: top;\n",
       "    }\n",
       "\n",
       "    .dataframe thead th {\n",
       "        text-align: right;\n",
       "    }\n",
       "</style>\n",
       "<table border=\"1\" class=\"dataframe\">\n",
       "  <thead>\n",
       "    <tr style=\"text-align: right;\">\n",
       "      <th></th>\n",
       "      <th>Open</th>\n",
       "      <th>High</th>\n",
       "      <th>Low</th>\n",
       "      <th>Close</th>\n",
       "      <th>Adj Close</th>\n",
       "      <th>Volume</th>\n",
       "      <th>UPPERBAND</th>\n",
       "      <th>MIDDLEBAND</th>\n",
       "      <th>LOWERBAND</th>\n",
       "      <th>MACD</th>\n",
       "      <th>MACD_SIGNAL</th>\n",
       "      <th>MACD_HIST</th>\n",
       "    </tr>\n",
       "    <tr>\n",
       "      <th>Date</th>\n",
       "      <th></th>\n",
       "      <th></th>\n",
       "      <th></th>\n",
       "      <th></th>\n",
       "      <th></th>\n",
       "      <th></th>\n",
       "      <th></th>\n",
       "      <th></th>\n",
       "      <th></th>\n",
       "      <th></th>\n",
       "      <th></th>\n",
       "      <th></th>\n",
       "    </tr>\n",
       "  </thead>\n",
       "  <tbody>\n",
       "    <tr>\n",
       "      <th>2022-10-19</th>\n",
       "      <td>368.989990</td>\n",
       "      <td>371.850006</td>\n",
       "      <td>365.549988</td>\n",
       "      <td>368.500000</td>\n",
       "      <td>364.068573</td>\n",
       "      <td>79746900</td>\n",
       "      <td>375.100508</td>\n",
       "      <td>366.010004</td>\n",
       "      <td>356.919500</td>\n",
       "      <td>-6.084402</td>\n",
       "      <td>-7.806110</td>\n",
       "      <td>1.721708</td>\n",
       "    </tr>\n",
       "    <tr>\n",
       "      <th>2022-04-04</th>\n",
       "      <td>453.130005</td>\n",
       "      <td>456.910004</td>\n",
       "      <td>452.260010</td>\n",
       "      <td>456.799988</td>\n",
       "      <td>447.527222</td>\n",
       "      <td>59601000</td>\n",
       "      <td>463.627331</td>\n",
       "      <td>456.322003</td>\n",
       "      <td>449.016675</td>\n",
       "      <td>5.388904</td>\n",
       "      <td>3.548947</td>\n",
       "      <td>1.839957</td>\n",
       "    </tr>\n",
       "    <tr>\n",
       "      <th>2022-07-01</th>\n",
       "      <td>376.559998</td>\n",
       "      <td>381.700012</td>\n",
       "      <td>373.799988</td>\n",
       "      <td>381.239990</td>\n",
       "      <td>375.114441</td>\n",
       "      <td>74839700</td>\n",
       "      <td>389.118730</td>\n",
       "      <td>381.613995</td>\n",
       "      <td>374.109261</td>\n",
       "      <td>-6.630340</td>\n",
       "      <td>-7.573523</td>\n",
       "      <td>0.943183</td>\n",
       "    </tr>\n",
       "    <tr>\n",
       "      <th>2021-08-02</th>\n",
       "      <td>440.339996</td>\n",
       "      <td>440.929993</td>\n",
       "      <td>437.209991</td>\n",
       "      <td>437.589996</td>\n",
       "      <td>424.523193</td>\n",
       "      <td>58783300</td>\n",
       "      <td>440.907183</td>\n",
       "      <td>438.917999</td>\n",
       "      <td>436.928816</td>\n",
       "      <td>3.327076</td>\n",
       "      <td>3.385549</td>\n",
       "      <td>-0.058473</td>\n",
       "    </tr>\n",
       "    <tr>\n",
       "      <th>2021-11-12</th>\n",
       "      <td>465.119995</td>\n",
       "      <td>467.859985</td>\n",
       "      <td>464.109985</td>\n",
       "      <td>467.269989</td>\n",
       "      <td>454.769226</td>\n",
       "      <td>53466700</td>\n",
       "      <td>470.441473</td>\n",
       "      <td>466.193994</td>\n",
       "      <td>461.946515</td>\n",
       "      <td>6.047634</td>\n",
       "      <td>5.917591</td>\n",
       "      <td>0.130042</td>\n",
       "    </tr>\n",
       "  </tbody>\n",
       "</table>\n",
       "</div>"
      ],
      "text/plain": [
       "                  Open        High         Low       Close   Adj Close  \\\n",
       "Date                                                                     \n",
       "2022-10-19  368.989990  371.850006  365.549988  368.500000  364.068573   \n",
       "2022-04-04  453.130005  456.910004  452.260010  456.799988  447.527222   \n",
       "2022-07-01  376.559998  381.700012  373.799988  381.239990  375.114441   \n",
       "2021-08-02  440.339996  440.929993  437.209991  437.589996  424.523193   \n",
       "2021-11-12  465.119995  467.859985  464.109985  467.269989  454.769226   \n",
       "\n",
       "              Volume   UPPERBAND  MIDDLEBAND   LOWERBAND      MACD  \\\n",
       "Date                                                                 \n",
       "2022-10-19  79746900  375.100508  366.010004  356.919500 -6.084402   \n",
       "2022-04-04  59601000  463.627331  456.322003  449.016675  5.388904   \n",
       "2022-07-01  74839700  389.118730  381.613995  374.109261 -6.630340   \n",
       "2021-08-02  58783300  440.907183  438.917999  436.928816  3.327076   \n",
       "2021-11-12  53466700  470.441473  466.193994  461.946515  6.047634   \n",
       "\n",
       "            MACD_SIGNAL  MACD_HIST  \n",
       "Date                                \n",
       "2022-10-19    -7.806110   1.721708  \n",
       "2022-04-04     3.548947   1.839957  \n",
       "2022-07-01    -7.573523   0.943183  \n",
       "2021-08-02     3.385549  -0.058473  \n",
       "2021-11-12     5.917591   0.130042  "
      ]
     },
     "execution_count": 9,
     "metadata": {},
     "output_type": "execute_result"
    }
   ],
   "source": [
    "data.sample(5)"
   ]
  },
  {
   "cell_type": "markdown",
   "id": "a049d4a6",
   "metadata": {},
   "source": [
    "## STRATEGY AND BACKTESTING\n",
    "This section applies the trading strategy to the data and backtests it. It generates buy/sell signals based on the strategy's entry and exit conditions. Then, it calculates the portfolio by taking the difference of positions (signals_1['positions'].diff()) and initializes the first position. It also calculates the returns, strategy returns (returns multiplied by portfolio), and cumulative returns. Finally, it prints the cumulative returns and plots them."
   ]
  },
  {
   "cell_type": "markdown",
   "id": "75cb65d0",
   "metadata": {},
   "source": [
    "# BB"
   ]
  },
  {
   "cell_type": "code",
   "execution_count": 10,
   "id": "4b5cf0f4",
   "metadata": {},
   "outputs": [],
   "source": [
    "signals_1 = strategy(data) "
   ]
  },
  {
   "cell_type": "code",
   "execution_count": 11,
   "id": "59b7ff60",
   "metadata": {},
   "outputs": [
    {
     "data": {
      "text/html": [
       "<div>\n",
       "<style scoped>\n",
       "    .dataframe tbody tr th:only-of-type {\n",
       "        vertical-align: middle;\n",
       "    }\n",
       "\n",
       "    .dataframe tbody tr th {\n",
       "        vertical-align: top;\n",
       "    }\n",
       "\n",
       "    .dataframe thead th {\n",
       "        text-align: right;\n",
       "    }\n",
       "</style>\n",
       "<table border=\"1\" class=\"dataframe\">\n",
       "  <thead>\n",
       "    <tr style=\"text-align: right;\">\n",
       "      <th></th>\n",
       "      <th>positions</th>\n",
       "    </tr>\n",
       "    <tr>\n",
       "      <th>Date</th>\n",
       "      <th></th>\n",
       "    </tr>\n",
       "  </thead>\n",
       "  <tbody>\n",
       "    <tr>\n",
       "      <th>2020-01-08</th>\n",
       "      <td>1</td>\n",
       "    </tr>\n",
       "    <tr>\n",
       "      <th>2020-01-09</th>\n",
       "      <td>1</td>\n",
       "    </tr>\n",
       "    <tr>\n",
       "      <th>2020-01-10</th>\n",
       "      <td>1</td>\n",
       "    </tr>\n",
       "    <tr>\n",
       "      <th>2020-01-13</th>\n",
       "      <td>1</td>\n",
       "    </tr>\n",
       "    <tr>\n",
       "      <th>2020-01-14</th>\n",
       "      <td>1</td>\n",
       "    </tr>\n",
       "    <tr>\n",
       "      <th>...</th>\n",
       "      <td>...</td>\n",
       "    </tr>\n",
       "    <tr>\n",
       "      <th>2022-12-23</th>\n",
       "      <td>1</td>\n",
       "    </tr>\n",
       "    <tr>\n",
       "      <th>2022-12-27</th>\n",
       "      <td>-1</td>\n",
       "    </tr>\n",
       "    <tr>\n",
       "      <th>2022-12-28</th>\n",
       "      <td>-1</td>\n",
       "    </tr>\n",
       "    <tr>\n",
       "      <th>2022-12-29</th>\n",
       "      <td>1</td>\n",
       "    </tr>\n",
       "    <tr>\n",
       "      <th>2022-12-30</th>\n",
       "      <td>1</td>\n",
       "    </tr>\n",
       "  </tbody>\n",
       "</table>\n",
       "<p>752 rows × 1 columns</p>\n",
       "</div>"
      ],
      "text/plain": [
       "            positions\n",
       "Date                 \n",
       "2020-01-08          1\n",
       "2020-01-09          1\n",
       "2020-01-10          1\n",
       "2020-01-13          1\n",
       "2020-01-14          1\n",
       "...               ...\n",
       "2022-12-23          1\n",
       "2022-12-27         -1\n",
       "2022-12-28         -1\n",
       "2022-12-29          1\n",
       "2022-12-30          1\n",
       "\n",
       "[752 rows x 1 columns]"
      ]
     },
     "execution_count": 11,
     "metadata": {},
     "output_type": "execute_result"
    }
   ],
   "source": [
    "signals_1[(signals_1['positions'] == 1) | (signals_1['positions']==-1)]"
   ]
  },
  {
   "cell_type": "markdown",
   "id": "b0f9e8df",
   "metadata": {},
   "source": [
    "# PORTFOLIO BB"
   ]
  },
  {
   "cell_type": "code",
   "execution_count": 12,
   "id": "b2e4f738",
   "metadata": {},
   "outputs": [],
   "source": [
    "portfolio = signals_1['positions'].diff()\n",
    "\n",
    "portfolio.iloc[0] = signals_1['positions'].iloc[0]\n",
    "\n",
    "data['portfolio'] = portfolio\n",
    "\n",
    "data['returns'] = data['Close'].pct_change()\n",
    "data['strategy_returns'] = data['returns']*data['portfolio']\n",
    "\n",
    "data['cumulative_strategy_returns'] = (1 + data['strategy_returns']).cumprod()\n",
    "data['cumulative_returns'] = (1 + data['returns']).cumprod()"
   ]
  },
  {
   "cell_type": "code",
   "execution_count": 13,
   "id": "6245c38c",
   "metadata": {},
   "outputs": [
    {
     "data": {
      "text/plain": [
       "Text(0, 0.5, 'Cumulative Returns')"
      ]
     },
     "execution_count": 13,
     "metadata": {},
     "output_type": "execute_result"
    },
    {
     "data": {
      "image/png": "[encoded data removed]",
      "text/plain": [
       "<Figure size 1200x1200 with 1 Axes>"
      ]
     },
     "metadata": {},
     "output_type": "display_data"
    }
   ],
   "source": [
    "plt.figure(figsize=(12,12))\n",
    "data['cumulative_returns'].plot(label = 'Actual returns', color='darkblue')\n",
    "data['cumulative_strategy_returns'].plot(label = 'Strategy returns', color='burlywood')\n",
    "plt.legend()\n",
    "plt.ylabel('Cumulative Returns')"
   ]
  },
  {
   "cell_type": "code",
   "execution_count": 14,
   "id": "30082c3a",
   "metadata": {},
   "outputs": [
    {
     "name": "stdout",
     "output_type": "stream",
     "text": [
      "54.922197078909775\n",
      "Date\n",
      "2020-01-02         NaN\n",
      "2020-01-03    0.992428\n",
      "2020-01-06    0.996214\n",
      "2020-01-07    0.993413\n",
      "2020-01-08    0.998707\n",
      "                ...   \n",
      "2022-12-23    1.178656\n",
      "2022-12-27    1.174008\n",
      "2022-12-28    1.159418\n",
      "2022-12-29    1.180288\n",
      "2022-12-30    1.177179\n",
      "Name: cumulative_returns, Length: 756, dtype: float64\n"
     ]
    }
   ],
   "source": [
    "standard_dev= (data['Close'].std())\n",
    "returns = data['cumulative_returns'] \n",
    "\n",
    "\n",
    "print(standard_dev)\n",
    "print(returns)"
   ]
  },
  {
   "cell_type": "code",
   "execution_count": 15,
   "id": "1562c261",
   "metadata": {},
   "outputs": [
    {
     "name": "stdout",
     "output_type": "stream",
     "text": [
      "54.922197078909775\n",
      "Date\n",
      "2020-01-02           NaN\n",
      "2020-01-03      1.000000\n",
      "2020-01-06      1.000000\n",
      "2020-01-07      1.000000\n",
      "2020-01-08      1.005330\n",
      "                 ...    \n",
      "2022-12-23    373.547687\n",
      "2022-12-27    376.493866\n",
      "2022-12-28    376.493866\n",
      "2022-12-29    390.047882\n",
      "2022-12-30    390.047882\n",
      "Name: cumulative_strategy_returns, Length: 756, dtype: float64\n"
     ]
    }
   ],
   "source": [
    "standard_dev_strat= (data['Close'].std())\n",
    "returns_strat = data['cumulative_strategy_returns'] #data['strategy_returns'] #1.2 - 1.0/1.0\n",
    "\n",
    "print(standard_dev_strat)\n",
    "print(returns_strat)"
   ]
  },
  {
   "cell_type": "code",
   "execution_count": 16,
   "id": "d94aa338",
   "metadata": {},
   "outputs": [
    {
     "name": "stdout",
     "output_type": "stream",
     "text": [
      "Date\n",
      "2020-01-02         NaN\n",
      "2020-01-03    0.018070\n",
      "2020-01-06    0.018139\n",
      "2020-01-07    0.018088\n",
      "2020-01-08    0.018184\n",
      "                ...   \n",
      "2022-12-23    0.021460\n",
      "2022-12-27    0.021376\n",
      "2022-12-28    0.021110\n",
      "2022-12-29    0.021490\n",
      "2022-12-30    0.021434\n",
      "Name: cumulative_returns, Length: 756, dtype: float64\n"
     ]
    }
   ],
   "source": [
    "sharpe_original = returns/standard_dev\n",
    "\n",
    "print(sharpe_original)"
   ]
  },
  {
   "cell_type": "code",
   "execution_count": 17,
   "id": "8e3a98e9",
   "metadata": {},
   "outputs": [
    {
     "name": "stdout",
     "output_type": "stream",
     "text": [
      "Date\n",
      "2020-01-02         NaN\n",
      "2020-01-03    0.018208\n",
      "2020-01-06    0.018208\n",
      "2020-01-07    0.018208\n",
      "2020-01-08    0.018305\n",
      "                ...   \n",
      "2022-12-23    6.801397\n",
      "2022-12-27    6.855040\n",
      "2022-12-28    6.855040\n",
      "2022-12-29    7.101826\n",
      "2022-12-30    7.101826\n",
      "Name: cumulative_strategy_returns, Length: 756, dtype: float64\n"
     ]
    }
   ],
   "source": [
    "sharpe_strat = returns_strat/standard_dev_strat\n",
    "\n",
    "print(sharpe_strat)"
   ]
  },
  {
   "cell_type": "code",
   "execution_count": 18,
   "id": "2dc984ac",
   "metadata": {},
   "outputs": [
    {
     "data": {
      "text/plain": [
       "Text(0, 0.5, 'Sharpe ratio]')"
      ]
     },
     "execution_count": 18,
     "metadata": {},
     "output_type": "execute_result"
    },
    {
     "data": {
      "image/png": "[encoded data removed]",
      "text/plain": [
       "<Figure size 1200x1200 with 1 Axes>"
      ]
     },
     "metadata": {},
     "output_type": "display_data"
    }
   ],
   "source": [
    "plt.figure(figsize=(12,12))\n",
    "sharpe_original.plot(label = 'Actual Sharpe ratio', color='darkblue')\n",
    "sharpe_strat.plot(label = 'Strategy Sharpe', color='red')\n",
    "plt.legend()\n",
    "plt.ylabel('Sharpe ratio]')"
   ]
  },
  {
   "cell_type": "code",
   "execution_count": null,
   "id": "133a6d4c",
   "metadata": {},
   "outputs": [],
   "source": []
  }
 ],
 "metadata": {
  "kernelspec": {
   "display_name": "Python 3 (ipykernel)",
   "language": "python",
   "name": "python3"
  },
  "language_info": {
   "codemirror_mode": {
    "name": "ipython",
    "version": 3
   },
   "file_extension": ".py",
   "mimetype": "text/x-python",
   "name": "python",
   "nbconvert_exporter": "python",
   "pygments_lexer": "ipython3",
   "version": "3.10.9"
  }
 },
 "nbformat": 4,
 "nbformat_minor": 5
}
