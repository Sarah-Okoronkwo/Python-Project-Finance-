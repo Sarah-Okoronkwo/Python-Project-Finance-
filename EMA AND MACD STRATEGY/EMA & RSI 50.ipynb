{
 "cells": [
  {
   "cell_type": "code",
   "execution_count": 1,
   "id": "a232a497",
   "metadata": {},
   "outputs": [],
   "source": [
    "import talib\n",
    "\n",
    "import pandas_datareader.data as web\n",
    "import pandas as pd\n",
    "import numpy as np\n",
    "import matplotlib.pyplot as plt\n",
    "import yfinance as yf"
   ]
  },
  {
   "cell_type": "markdown",
   "id": "fed58ccc",
   "metadata": {},
   "source": [
    "## DEFINING INDICATORS\n",
    "This is a list of indicators provided by TA-Lib to develop your trading strategies."
   ]
  },
  {
   "cell_type": "markdown",
   "id": "1e5959fd",
   "metadata": {},
   "source": [
    "Indicators [EMA(10 and 20), RSI(14)\n"
   ]
  },
  {
   "cell_type": "markdown",
   "id": "acc7bceb",
   "metadata": {},
   "source": [
    "# TRADING STRATEGY\n",
    "In this trading strategy, we define entry and exit conditions based on the selected indicators. The conditions are as follows:\n",
    "\n",
    "### Buy signal \n",
    "\n",
    " - Entry Condition:\n",
    "       - Condition 1: Check if 10-period EMA crosses above 20-period EMA.\n",
    "       - Condition 2: Check if CCI crosses the +100 line.\n",
    "       - Condition 3: Check if the MACD line crosses above the zero line.\n",
    "\n",
    " - Exit Condition:\n",
    "       - Condition 1: Check if CCI crosses the -100 line.\n",
    "\n",
    "### Sell signal \n",
    "\n",
    " - Entry Condition:\n",
    "       - Condition 1: Check if 10-period EMA crosses below 20-period EMA.\n",
    "       - Condition 2: Check if CCI crosses the -100 line.\n",
    "       - Condition 3: Check if the MACD line crosses below the zero line.\n",
    "\n",
    " - Exit Condition:\n",
    "       - Condition 1: Check if CCI crosses the +100 line.\n",
    "\n",
    "\n",
    "    \n",
    "    \n",
    "### Generating Signals:\n",
    "\n",
    "   - A DataFrame named signals is created to store the buy/sell signals.\n",
    "   - The 'positions' column is initialized with zeros (no position).\n",
    "   - The entry_condition is used to set the 'positions' value to 1 (buy signal) where the conditions are met.\n",
    "   - The exit_condition is used to set the 'positions' value to -1 (sell signal) where the condition is met."
   ]
  },
  {
   "cell_type": "code",
   "execution_count": 2,
   "id": "a65df012",
   "metadata": {},
   "outputs": [],
   "source": [
    "# Define your trading strategy\n",
    "def strategy(data):\n",
    "    # Define the entry and exit conditions for buy signal\n",
    "    condition1_buy = data['EMA_10'] > data['EMA_20']\n",
    "    \n",
    "    entry_condition_buy = condition1_buy #& condition2_buy  \n",
    "    exit_condition_buy = data['RSI'] < 50\n",
    "\n",
    "    # Define the entry and exit conditions for sell signal\n",
    "    condition1_sell = data['EMA_10'] < data['EMA_20']\n",
    "    \n",
    "    \n",
    "    entry_condition_sell = condition1_sell #& condition2_buy \n",
    "    exit_condition_sell = data['RSI'] > 50\n",
    "\n",
    "    # Generate the signals\n",
    "    signals = pd.DataFrame(index=data.index)\n",
    "    signals['positions'] = 0\n",
    "    signals.loc[entry_condition_buy, 'positions'] = 1\n",
    "    signals.loc[exit_condition_buy, 'positions'] = -1\n",
    "    signals.loc[entry_condition_sell, 'positions'] = -1\n",
    "    signals.loc[exit_condition_sell, 'positions'] = 1\n",
    "\n",
    "    return signals\n"
   ]
  },
  {
   "cell_type": "markdown",
   "id": "fe322236",
   "metadata": {},
   "source": [
    "## HISTORICAL DATA\n",
    "Next, we download historical stock data for the specified symbol (in this case, 'AAPL' for Apple Inc.) from the start date to the end date using the yfinance library."
   ]
  },
  {
   "cell_type": "code",
   "execution_count": 3,
   "id": "df9b0b2d",
   "metadata": {},
   "outputs": [
    {
     "name": "stdout",
     "output_type": "stream",
     "text": [
      "[*********************100%***********************]  1 of 1 completed\n"
     ]
    }
   ],
   "source": [
    "symbol = 'SPY'\n",
    "start_date = '2020-01-01'\n",
    "end_date = '2023-01-01'\n",
    "\n",
    "data = yf.download(symbol, start_date, end_date)"
   ]
  },
  {
   "cell_type": "code",
   "execution_count": 4,
   "id": "0b9f5a52",
   "metadata": {},
   "outputs": [
    {
     "data": {
      "text/html": [
       "<div>\n",
       "<style scoped>\n",
       "    .dataframe tbody tr th:only-of-type {\n",
       "        vertical-align: middle;\n",
       "    }\n",
       "\n",
       "    .dataframe tbody tr th {\n",
       "        vertical-align: top;\n",
       "    }\n",
       "\n",
       "    .dataframe thead th {\n",
       "        text-align: right;\n",
       "    }\n",
       "</style>\n",
       "<table border=\"1\" class=\"dataframe\">\n",
       "  <thead>\n",
       "    <tr style=\"text-align: right;\">\n",
       "      <th></th>\n",
       "      <th>Open</th>\n",
       "      <th>High</th>\n",
       "      <th>Low</th>\n",
       "      <th>Close</th>\n",
       "      <th>Adj Close</th>\n",
       "      <th>Volume</th>\n",
       "    </tr>\n",
       "    <tr>\n",
       "      <th>Date</th>\n",
       "      <th></th>\n",
       "      <th></th>\n",
       "      <th></th>\n",
       "      <th></th>\n",
       "      <th></th>\n",
       "      <th></th>\n",
       "    </tr>\n",
       "  </thead>\n",
       "  <tbody>\n",
       "    <tr>\n",
       "      <th>2020-01-02</th>\n",
       "      <td>323.540009</td>\n",
       "      <td>324.890015</td>\n",
       "      <td>322.529999</td>\n",
       "      <td>324.869995</td>\n",
       "      <td>307.375702</td>\n",
       "      <td>59151200</td>\n",
       "    </tr>\n",
       "    <tr>\n",
       "      <th>2020-01-03</th>\n",
       "      <td>321.160004</td>\n",
       "      <td>323.640015</td>\n",
       "      <td>321.100006</td>\n",
       "      <td>322.410004</td>\n",
       "      <td>305.048187</td>\n",
       "      <td>77709700</td>\n",
       "    </tr>\n",
       "    <tr>\n",
       "      <th>2020-01-06</th>\n",
       "      <td>320.489990</td>\n",
       "      <td>323.730011</td>\n",
       "      <td>320.359985</td>\n",
       "      <td>323.640015</td>\n",
       "      <td>306.211945</td>\n",
       "      <td>55653900</td>\n",
       "    </tr>\n",
       "    <tr>\n",
       "      <th>2020-01-07</th>\n",
       "      <td>323.019989</td>\n",
       "      <td>323.540009</td>\n",
       "      <td>322.239990</td>\n",
       "      <td>322.730011</td>\n",
       "      <td>305.350922</td>\n",
       "      <td>40496400</td>\n",
       "    </tr>\n",
       "    <tr>\n",
       "      <th>2020-01-08</th>\n",
       "      <td>322.940002</td>\n",
       "      <td>325.779999</td>\n",
       "      <td>322.670013</td>\n",
       "      <td>324.450012</td>\n",
       "      <td>306.978271</td>\n",
       "      <td>68296000</td>\n",
       "    </tr>\n",
       "  </tbody>\n",
       "</table>\n",
       "</div>"
      ],
      "text/plain": [
       "                  Open        High         Low       Close   Adj Close  \\\n",
       "Date                                                                     \n",
       "2020-01-02  323.540009  324.890015  322.529999  324.869995  307.375702   \n",
       "2020-01-03  321.160004  323.640015  321.100006  322.410004  305.048187   \n",
       "2020-01-06  320.489990  323.730011  320.359985  323.640015  306.211945   \n",
       "2020-01-07  323.019989  323.540009  322.239990  322.730011  305.350922   \n",
       "2020-01-08  322.940002  325.779999  322.670013  324.450012  306.978271   \n",
       "\n",
       "              Volume  \n",
       "Date                  \n",
       "2020-01-02  59151200  \n",
       "2020-01-03  77709700  \n",
       "2020-01-06  55653900  \n",
       "2020-01-07  40496400  \n",
       "2020-01-08  68296000  "
      ]
     },
     "execution_count": 4,
     "metadata": {},
     "output_type": "execute_result"
    }
   ],
   "source": [
    "data.head()"
   ]
  },
  {
   "cell_type": "markdown",
   "id": "4e626555",
   "metadata": {},
   "source": [
    "## CALCULATING INDICATORS\n"
   ]
  },
  {
   "cell_type": "code",
   "execution_count": 5,
   "id": "797713b0",
   "metadata": {},
   "outputs": [],
   "source": [
    "# Calculate the indicators\n",
    "\n",
    "data['RSI'] = talib.RSI(data['Close'],)\n",
    "data['EMA_10'] = talib.EMA(data['Close'], timeperiod=10)\n",
    "data['EMA_20'] = talib.EMA(data['Close'], timeperiod=20)\n"
   ]
  },
  {
   "cell_type": "code",
   "execution_count": 6,
   "id": "15f10699",
   "metadata": {},
   "outputs": [
    {
     "data": {
      "text/html": [
       "<div>\n",
       "<style scoped>\n",
       "    .dataframe tbody tr th:only-of-type {\n",
       "        vertical-align: middle;\n",
       "    }\n",
       "\n",
       "    .dataframe tbody tr th {\n",
       "        vertical-align: top;\n",
       "    }\n",
       "\n",
       "    .dataframe thead th {\n",
       "        text-align: right;\n",
       "    }\n",
       "</style>\n",
       "<table border=\"1\" class=\"dataframe\">\n",
       "  <thead>\n",
       "    <tr style=\"text-align: right;\">\n",
       "      <th></th>\n",
       "      <th>Open</th>\n",
       "      <th>High</th>\n",
       "      <th>Low</th>\n",
       "      <th>Close</th>\n",
       "      <th>Adj Close</th>\n",
       "      <th>Volume</th>\n",
       "      <th>RSI</th>\n",
       "      <th>EMA_10</th>\n",
       "      <th>EMA_20</th>\n",
       "    </tr>\n",
       "    <tr>\n",
       "      <th>Date</th>\n",
       "      <th></th>\n",
       "      <th></th>\n",
       "      <th></th>\n",
       "      <th></th>\n",
       "      <th></th>\n",
       "      <th></th>\n",
       "      <th></th>\n",
       "      <th></th>\n",
       "      <th></th>\n",
       "    </tr>\n",
       "  </thead>\n",
       "  <tbody>\n",
       "    <tr>\n",
       "      <th>2021-03-17</th>\n",
       "      <td>394.529999</td>\n",
       "      <td>398.119995</td>\n",
       "      <td>393.299988</td>\n",
       "      <td>397.260010</td>\n",
       "      <td>382.886719</td>\n",
       "      <td>97959300</td>\n",
       "      <td>62.013476</td>\n",
       "      <td>391.958302</td>\n",
       "      <td>389.349400</td>\n",
       "    </tr>\n",
       "    <tr>\n",
       "      <th>2021-04-14</th>\n",
       "      <td>412.829987</td>\n",
       "      <td>413.959991</td>\n",
       "      <td>410.869995</td>\n",
       "      <td>411.450012</td>\n",
       "      <td>397.862152</td>\n",
       "      <td>61659900</td>\n",
       "      <td>69.789572</td>\n",
       "      <td>407.235047</td>\n",
       "      <td>402.079728</td>\n",
       "    </tr>\n",
       "    <tr>\n",
       "      <th>2020-07-06</th>\n",
       "      <td>316.369995</td>\n",
       "      <td>317.679993</td>\n",
       "      <td>315.559998</td>\n",
       "      <td>317.049988</td>\n",
       "      <td>303.068542</td>\n",
       "      <td>61713800</td>\n",
       "      <td>60.018775</td>\n",
       "      <td>310.108646</td>\n",
       "      <td>308.537614</td>\n",
       "    </tr>\n",
       "    <tr>\n",
       "      <th>2020-03-27</th>\n",
       "      <td>253.270004</td>\n",
       "      <td>260.809998</td>\n",
       "      <td>251.050003</td>\n",
       "      <td>253.419998</td>\n",
       "      <td>241.183212</td>\n",
       "      <td>224341200</td>\n",
       "      <td>43.268991</td>\n",
       "      <td>250.915423</td>\n",
       "      <td>263.807038</td>\n",
       "    </tr>\n",
       "    <tr>\n",
       "      <th>2020-07-17</th>\n",
       "      <td>321.880005</td>\n",
       "      <td>322.570007</td>\n",
       "      <td>319.739990</td>\n",
       "      <td>321.720001</td>\n",
       "      <td>307.532654</td>\n",
       "      <td>62774900</td>\n",
       "      <td>61.262535</td>\n",
       "      <td>317.637493</td>\n",
       "      <td>314.434563</td>\n",
       "    </tr>\n",
       "  </tbody>\n",
       "</table>\n",
       "</div>"
      ],
      "text/plain": [
       "                  Open        High         Low       Close   Adj Close  \\\n",
       "Date                                                                     \n",
       "2021-03-17  394.529999  398.119995  393.299988  397.260010  382.886719   \n",
       "2021-04-14  412.829987  413.959991  410.869995  411.450012  397.862152   \n",
       "2020-07-06  316.369995  317.679993  315.559998  317.049988  303.068542   \n",
       "2020-03-27  253.270004  260.809998  251.050003  253.419998  241.183212   \n",
       "2020-07-17  321.880005  322.570007  319.739990  321.720001  307.532654   \n",
       "\n",
       "               Volume        RSI      EMA_10      EMA_20  \n",
       "Date                                                      \n",
       "2021-03-17   97959300  62.013476  391.958302  389.349400  \n",
       "2021-04-14   61659900  69.789572  407.235047  402.079728  \n",
       "2020-07-06   61713800  60.018775  310.108646  308.537614  \n",
       "2020-03-27  224341200  43.268991  250.915423  263.807038  \n",
       "2020-07-17   62774900  61.262535  317.637493  314.434563  "
      ]
     },
     "execution_count": 6,
     "metadata": {},
     "output_type": "execute_result"
    }
   ],
   "source": [
    "data.sample(5)"
   ]
  },
  {
   "cell_type": "markdown",
   "id": "7262c361",
   "metadata": {},
   "source": [
    "## STRATEGY AND BACKTESTING\n",
    "This section applies the trading strategy to the data and backtests it. It generates buy/sell signals based on the strategy's entry and exit conditions. Then, it calculates the portfolio by taking the difference of positions (signals_1['positions'].diff()) and initializes the first position. It also calculates the returns, strategy returns (returns multiplied by portfolio), and cumulative returns. Finally, it prints the cumulative returns and plots them."
   ]
  },
  {
   "cell_type": "code",
   "execution_count": 7,
   "id": "60e1ff6e",
   "metadata": {},
   "outputs": [],
   "source": [
    "signals_1 = strategy(data) "
   ]
  },
  {
   "cell_type": "code",
   "execution_count": 8,
   "id": "52c2cafb",
   "metadata": {},
   "outputs": [
    {
     "data": {
      "text/html": [
       "<div>\n",
       "<style scoped>\n",
       "    .dataframe tbody tr th:only-of-type {\n",
       "        vertical-align: middle;\n",
       "    }\n",
       "\n",
       "    .dataframe tbody tr th {\n",
       "        vertical-align: top;\n",
       "    }\n",
       "\n",
       "    .dataframe thead th {\n",
       "        text-align: right;\n",
       "    }\n",
       "</style>\n",
       "<table border=\"1\" class=\"dataframe\">\n",
       "  <thead>\n",
       "    <tr style=\"text-align: right;\">\n",
       "      <th></th>\n",
       "      <th>positions</th>\n",
       "    </tr>\n",
       "    <tr>\n",
       "      <th>Date</th>\n",
       "      <th></th>\n",
       "    </tr>\n",
       "  </thead>\n",
       "  <tbody>\n",
       "    <tr>\n",
       "      <th>2020-01-23</th>\n",
       "      <td>1</td>\n",
       "    </tr>\n",
       "    <tr>\n",
       "      <th>2020-01-24</th>\n",
       "      <td>1</td>\n",
       "    </tr>\n",
       "    <tr>\n",
       "      <th>2020-01-28</th>\n",
       "      <td>1</td>\n",
       "    </tr>\n",
       "    <tr>\n",
       "      <th>2020-01-29</th>\n",
       "      <td>1</td>\n",
       "    </tr>\n",
       "    <tr>\n",
       "      <th>2020-01-30</th>\n",
       "      <td>1</td>\n",
       "    </tr>\n",
       "    <tr>\n",
       "      <th>...</th>\n",
       "      <td>...</td>\n",
       "    </tr>\n",
       "    <tr>\n",
       "      <th>2022-12-06</th>\n",
       "      <td>1</td>\n",
       "    </tr>\n",
       "    <tr>\n",
       "      <th>2022-12-08</th>\n",
       "      <td>1</td>\n",
       "    </tr>\n",
       "    <tr>\n",
       "      <th>2022-12-12</th>\n",
       "      <td>1</td>\n",
       "    </tr>\n",
       "    <tr>\n",
       "      <th>2022-12-13</th>\n",
       "      <td>1</td>\n",
       "    </tr>\n",
       "    <tr>\n",
       "      <th>2022-12-14</th>\n",
       "      <td>1</td>\n",
       "    </tr>\n",
       "  </tbody>\n",
       "</table>\n",
       "<p>485 rows × 1 columns</p>\n",
       "</div>"
      ],
      "text/plain": [
       "            positions\n",
       "Date                 \n",
       "2020-01-23          1\n",
       "2020-01-24          1\n",
       "2020-01-28          1\n",
       "2020-01-29          1\n",
       "2020-01-30          1\n",
       "...               ...\n",
       "2022-12-06          1\n",
       "2022-12-08          1\n",
       "2022-12-12          1\n",
       "2022-12-13          1\n",
       "2022-12-14          1\n",
       "\n",
       "[485 rows x 1 columns]"
      ]
     },
     "execution_count": 8,
     "metadata": {},
     "output_type": "execute_result"
    }
   ],
   "source": [
    "signals_1[(signals_1['positions'] == 1) ] #(signals_1['positions']==-1)]"
   ]
  },
  {
   "cell_type": "markdown",
   "id": "36315f9c",
   "metadata": {},
   "source": [
    "## SIGNAL RETURNS  BUY POSITIONS ONLY?"
   ]
  },
  {
   "cell_type": "code",
   "execution_count": 9,
   "id": "4f9cf104",
   "metadata": {},
   "outputs": [],
   "source": [
    "portfolio = signals_1['positions'].diff()\n",
    "\n",
    "portfolio.iloc[0] = signals_1['positions'].iloc[0]\n",
    "\n",
    "data['portfolio'] = portfolio\n",
    "\n",
    "data['returns'] = data['Close'].pct_change()\n",
    "data['strategy_returns'] = data['returns']*data['portfolio']\n",
    "\n",
    "data['cumulative_strategy_returns'] = (1 + data['strategy_returns']).cumprod()\n",
    "data['cumulative_returns'] = (1 + data['returns']).cumprod()\n"
   ]
  },
  {
   "cell_type": "code",
   "execution_count": 10,
   "id": "2f052a83",
   "metadata": {},
   "outputs": [
    {
     "data": {
      "text/plain": [
       "Text(0, 0.5, 'Cumulative Returns')"
      ]
     },
     "execution_count": 10,
     "metadata": {},
     "output_type": "execute_result"
    },
    {
     "data": {
      "image/png": "[encoded data removed]",
      "text/plain": [
       "<Figure size 1200x1200 with 1 Axes>"
      ]
     },
     "metadata": {},
     "output_type": "display_data"
    }
   ],
   "source": [
    "plt.figure(figsize=(12,12))\n",
    "data['cumulative_returns'].plot(label = 'Actual returns', color='darkblue')\n",
    "data['cumulative_strategy_returns'].plot(label = 'Strategy returns', color='red')\n",
    "plt.legend()\n",
    "plt.ylabel('Cumulative Returns')"
   ]
  },
  {
   "cell_type": "code",
   "execution_count": 11,
   "id": "8f77edd4",
   "metadata": {},
   "outputs": [
    {
     "name": "stdout",
     "output_type": "stream",
     "text": [
      "54.922197078909775\n",
      "Date\n",
      "2020-01-02         NaN\n",
      "2020-01-03    0.992428\n",
      "2020-01-06    0.996214\n",
      "2020-01-07    0.993413\n",
      "2020-01-08    0.998707\n",
      "                ...   \n",
      "2022-12-23    1.178656\n",
      "2022-12-27    1.174008\n",
      "2022-12-28    1.159418\n",
      "2022-12-29    1.180288\n",
      "2022-12-30    1.177179\n",
      "Name: cumulative_returns, Length: 756, dtype: float64\n"
     ]
    }
   ],
   "source": [
    "standard_dev= (data['Close'].std())\n",
    "returns = data['cumulative_returns'] \n",
    "\n",
    "\n",
    "print(standard_dev)\n",
    "print(returns)"
   ]
  },
  {
   "cell_type": "code",
   "execution_count": 12,
   "id": "f1b72d63",
   "metadata": {},
   "outputs": [
    {
     "name": "stdout",
     "output_type": "stream",
     "text": [
      "54.922197078909775\n",
      "Date\n",
      "2020-01-02          NaN\n",
      "2020-01-03     1.000000\n",
      "2020-01-06     1.000000\n",
      "2020-01-07     1.000000\n",
      "2020-01-08     1.000000\n",
      "                ...    \n",
      "2022-12-23    17.185937\n",
      "2022-12-27    17.185937\n",
      "2022-12-28    17.185937\n",
      "2022-12-29    17.185937\n",
      "2022-12-30    17.185937\n",
      "Name: cumulative_strategy_returns, Length: 756, dtype: float64\n"
     ]
    }
   ],
   "source": [
    "standard_dev_strat= (data['Close'].std())\n",
    "returns_strat = data['cumulative_strategy_returns'] #data['strategy_returns'] #1.2 - 1.0/1.0\n",
    "\n",
    "print(standard_dev_strat)\n",
    "print(returns_strat)"
   ]
  },
  {
   "cell_type": "code",
   "execution_count": 13,
   "id": "ce639c6a",
   "metadata": {},
   "outputs": [
    {
     "name": "stdout",
     "output_type": "stream",
     "text": [
      "Date\n",
      "2020-01-02         NaN\n",
      "2020-01-03    0.018070\n",
      "2020-01-06    0.018139\n",
      "2020-01-07    0.018088\n",
      "2020-01-08    0.018184\n",
      "                ...   \n",
      "2022-12-23    0.021460\n",
      "2022-12-27    0.021376\n",
      "2022-12-28    0.021110\n",
      "2022-12-29    0.021490\n",
      "2022-12-30    0.021434\n",
      "Name: cumulative_returns, Length: 756, dtype: float64\n"
     ]
    }
   ],
   "source": [
    "sharpe_original = returns/standard_dev\n",
    "\n",
    "print(sharpe_original)"
   ]
  },
  {
   "cell_type": "code",
   "execution_count": 14,
   "id": "8f950afa",
   "metadata": {},
   "outputs": [
    {
     "name": "stdout",
     "output_type": "stream",
     "text": [
      "Date\n",
      "2020-01-02         NaN\n",
      "2020-01-03    0.018208\n",
      "2020-01-06    0.018208\n",
      "2020-01-07    0.018208\n",
      "2020-01-08    0.018208\n",
      "                ...   \n",
      "2022-12-23    0.312914\n",
      "2022-12-27    0.312914\n",
      "2022-12-28    0.312914\n",
      "2022-12-29    0.312914\n",
      "2022-12-30    0.312914\n",
      "Name: cumulative_strategy_returns, Length: 756, dtype: float64\n"
     ]
    }
   ],
   "source": [
    "sharpe_strat = returns_strat/standard_dev_strat\n",
    "\n",
    "print(sharpe_strat)"
   ]
  },
  {
   "cell_type": "code",
   "execution_count": 15,
   "id": "3370fa61",
   "metadata": {},
   "outputs": [
    {
     "data": {
      "text/plain": [
       "Text(0, 0.5, 'Sharpe ratio]')"
      ]
     },
     "execution_count": 15,
     "metadata": {},
     "output_type": "execute_result"
    },
    {
     "data": {
      "image/png": "[encoded data removed]",
      "text/plain": [
       "<Figure size 1200x1200 with 1 Axes>"
      ]
     },
     "metadata": {},
     "output_type": "display_data"
    }
   ],
   "source": [
    "plt.figure(figsize=(12,12))\n",
    "sharpe_original.plot(label = 'Actual Sharpe ratio', color='darkblue')\n",
    "sharpe_strat.plot(label = 'Strategy Sharpe', color='red')\n",
    "plt.legend()\n",
    "plt.ylabel('Sharpe ratio]')"
   ]
  },
  {
   "cell_type": "code",
   "execution_count": null,
   "id": "024d61bf",
   "metadata": {},
   "outputs": [],
   "source": []
  },
  {
   "cell_type": "code",
   "execution_count": null,
   "id": "fd1ed02b",
   "metadata": {},
   "outputs": [],
   "source": []
  }
 ],
 "metadata": {
  "kernelspec": {
   "display_name": "Python 3 (ipykernel)",
   "language": "python",
   "name": "python3"
  },
  "language_info": {
   "codemirror_mode": {
    "name": "ipython",
    "version": 3
   },
   "file_extension": ".py",
   "mimetype": "text/x-python",
   "name": "python",
   "nbconvert_exporter": "python",
   "pygments_lexer": "ipython3",
   "version": "3.10.9"
  }
 },
 "nbformat": 4,
 "nbformat_minor": 5
}
