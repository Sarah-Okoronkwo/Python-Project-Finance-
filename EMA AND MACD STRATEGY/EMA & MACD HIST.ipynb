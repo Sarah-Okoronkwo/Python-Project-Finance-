{
 "cells": [
  {
   "cell_type": "code",
   "execution_count": 3,
   "id": "a232a497",
   "metadata": {},
   "outputs": [],
   "source": [
    "import talib\n",
    "\n",
    "import pandas_datareader.data as web\n",
    "import pandas as pd\n",
    "import numpy as np\n",
    "import matplotlib.pyplot as plt\n",
    "import yfinance as yf"
   ]
  },
  {
   "cell_type": "markdown",
   "id": "fed58ccc",
   "metadata": {},
   "source": [
    "## DEFINING INDICATORS\n",
    "This is a list of indicators provided by TA-Lib to develop your trading strategies."
   ]
  },
  {
   "cell_type": "markdown",
   "id": "1e5959fd",
   "metadata": {},
   "source": [
    "Indicators [EMA(10 and 20), CCI(20),  MACD(12, 26, 9)]\n"
   ]
  },
  {
   "cell_type": "markdown",
   "id": "acc7bceb",
   "metadata": {},
   "source": [
    "# TRADING STRATEGY\n",
    "In this trading strategy, we define entry and exit conditions based on the selected indicators. The conditions are as follows:\n",
    "\n",
    "### Buy signal \n",
    "\n",
    " - Entry Condition:\n",
    "       - Condition 1: Check if 10-period EMA crosses above 20-period EMA.\n",
    "       - Condition 2: Check if CCI crosses the +100 line.\n",
    "       - Condition 3: Check if the MACD line crosses above the zero line.\n",
    "\n",
    " - Exit Condition:\n",
    "       - Condition 1: Check if CCI crosses the -100 line.\n",
    "\n",
    "### Sell signal \n",
    "\n",
    " - Entry Condition:\n",
    "       - Condition 1: Check if 10-period EMA crosses below 20-period EMA.\n",
    "       - Condition 2: Check if CCI crosses the -100 line.\n",
    "       - Condition 3: Check if the MACD line crosses below the zero line.\n",
    "\n",
    " - Exit Condition:\n",
    "       - Condition 1: Check if CCI crosses the +100 line.\n",
    "\n",
    "\n",
    "    \n",
    "    \n",
    "### Generating Signals:\n",
    "\n",
    "   - A DataFrame named signals is created to store the buy/sell signals.\n",
    "   - The 'positions' column is initialized with zeros (no position).\n",
    "   - The entry_condition is used to set the 'positions' value to 1 (buy signal) where the conditions are met.\n",
    "   - The exit_condition is used to set the 'positions' value to -1 (sell signal) where the condition is met."
   ]
  },
  {
   "cell_type": "code",
   "execution_count": 66,
   "id": "a65df012",
   "metadata": {},
   "outputs": [],
   "source": [
    "# Define your trading strategy\n",
    "def strategy(data):\n",
    "    # Define the entry and exit conditions for buy signal\n",
    "    condition1_buy = data['EMA_10'] > data['EMA_20']\n",
    "    condition2_buy = data['MACD_HIST'] > 0\n",
    "\n",
    "    entry_condition_buy = condition1_buy & condition2_buy\n",
    "    exit_condition_buy = data['MACD_HIST'] < 0\n",
    "\n",
    "    # Define the entry and exit conditions for sell signal\n",
    "    condition1_sell = data['EMA_10'] < data['EMA_20']\n",
    "    condition2_sell = data['MACD_HIST'] < 0\n",
    "\n",
    "    entry_condition_sell = condition1_sell & condition2_sell \n",
    "    exit_condition_sell = data['MACD_HIST'] < 0\n",
    "\n",
    "    # Generate the signals\n",
    "    signals = pd.DataFrame(index=data.index)\n",
    "    signals['positions'] = 0\n",
    "    signals.loc[entry_condition_buy, 'positions'] = 1\n",
    "    signals.loc[exit_condition_buy, 'positions'] = -1\n",
    "    signals.loc[entry_condition_sell, 'positions'] = -1\n",
    "    signals.loc[exit_condition_sell, 'positions'] = 1\n",
    "\n",
    "    return signals\n"
   ]
  },
  {
   "cell_type": "markdown",
   "id": "fe322236",
   "metadata": {},
   "source": [
    "## HISTORICAL DATA\n",
    "Next, we download historical stock data for the specified symbol (in this case, 'AAPL' for Apple Inc.) from the start date to the end date using the yfinance library."
   ]
  },
  {
   "cell_type": "code",
   "execution_count": 56,
   "id": "df9b0b2d",
   "metadata": {},
   "outputs": [
    {
     "name": "stdout",
     "output_type": "stream",
     "text": [
      "[*********************100%***********************]  1 of 1 completed\n"
     ]
    }
   ],
   "source": [
    "symbol = 'SPY'\n",
    "start_date = '2020-01-01'\n",
    "end_date = '2023-01-01'\n",
    "\n",
    "data = yf.download(symbol, start_date, end_date)"
   ]
  },
  {
   "cell_type": "code",
   "execution_count": 57,
   "id": "0b9f5a52",
   "metadata": {},
   "outputs": [
    {
     "data": {
      "text/html": [
       "<div>\n",
       "<style scoped>\n",
       "    .dataframe tbody tr th:only-of-type {\n",
       "        vertical-align: middle;\n",
       "    }\n",
       "\n",
       "    .dataframe tbody tr th {\n",
       "        vertical-align: top;\n",
       "    }\n",
       "\n",
       "    .dataframe thead th {\n",
       "        text-align: right;\n",
       "    }\n",
       "</style>\n",
       "<table border=\"1\" class=\"dataframe\">\n",
       "  <thead>\n",
       "    <tr style=\"text-align: right;\">\n",
       "      <th></th>\n",
       "      <th>Open</th>\n",
       "      <th>High</th>\n",
       "      <th>Low</th>\n",
       "      <th>Close</th>\n",
       "      <th>Adj Close</th>\n",
       "      <th>Volume</th>\n",
       "    </tr>\n",
       "    <tr>\n",
       "      <th>Date</th>\n",
       "      <th></th>\n",
       "      <th></th>\n",
       "      <th></th>\n",
       "      <th></th>\n",
       "      <th></th>\n",
       "      <th></th>\n",
       "    </tr>\n",
       "  </thead>\n",
       "  <tbody>\n",
       "    <tr>\n",
       "      <th>2020-01-02</th>\n",
       "      <td>323.540009</td>\n",
       "      <td>324.890015</td>\n",
       "      <td>322.529999</td>\n",
       "      <td>324.869995</td>\n",
       "      <td>307.375671</td>\n",
       "      <td>59151200</td>\n",
       "    </tr>\n",
       "    <tr>\n",
       "      <th>2020-01-03</th>\n",
       "      <td>321.160004</td>\n",
       "      <td>323.640015</td>\n",
       "      <td>321.100006</td>\n",
       "      <td>322.410004</td>\n",
       "      <td>305.048157</td>\n",
       "      <td>77709700</td>\n",
       "    </tr>\n",
       "    <tr>\n",
       "      <th>2020-01-06</th>\n",
       "      <td>320.489990</td>\n",
       "      <td>323.730011</td>\n",
       "      <td>320.359985</td>\n",
       "      <td>323.640015</td>\n",
       "      <td>306.211914</td>\n",
       "      <td>55653900</td>\n",
       "    </tr>\n",
       "    <tr>\n",
       "      <th>2020-01-07</th>\n",
       "      <td>323.019989</td>\n",
       "      <td>323.540009</td>\n",
       "      <td>322.239990</td>\n",
       "      <td>322.730011</td>\n",
       "      <td>305.350952</td>\n",
       "      <td>40496400</td>\n",
       "    </tr>\n",
       "    <tr>\n",
       "      <th>2020-01-08</th>\n",
       "      <td>322.940002</td>\n",
       "      <td>325.779999</td>\n",
       "      <td>322.670013</td>\n",
       "      <td>324.450012</td>\n",
       "      <td>306.978302</td>\n",
       "      <td>68296000</td>\n",
       "    </tr>\n",
       "  </tbody>\n",
       "</table>\n",
       "</div>"
      ],
      "text/plain": [
       "                  Open        High         Low       Close   Adj Close  \\\n",
       "Date                                                                     \n",
       "2020-01-02  323.540009  324.890015  322.529999  324.869995  307.375671   \n",
       "2020-01-03  321.160004  323.640015  321.100006  322.410004  305.048157   \n",
       "2020-01-06  320.489990  323.730011  320.359985  323.640015  306.211914   \n",
       "2020-01-07  323.019989  323.540009  322.239990  322.730011  305.350952   \n",
       "2020-01-08  322.940002  325.779999  322.670013  324.450012  306.978302   \n",
       "\n",
       "              Volume  \n",
       "Date                  \n",
       "2020-01-02  59151200  \n",
       "2020-01-03  77709700  \n",
       "2020-01-06  55653900  \n",
       "2020-01-07  40496400  \n",
       "2020-01-08  68296000  "
      ]
     },
     "execution_count": 57,
     "metadata": {},
     "output_type": "execute_result"
    }
   ],
   "source": [
    "data.head()"
   ]
  },
  {
   "cell_type": "markdown",
   "id": "4e626555",
   "metadata": {},
   "source": [
    "## CALCULATING INDICATORS\n"
   ]
  },
  {
   "cell_type": "code",
   "execution_count": 58,
   "id": "797713b0",
   "metadata": {},
   "outputs": [],
   "source": [
    "# Calculate the indicators\n",
    "\n",
    "data['EMA_10'] = talib.EMA(data['Close'], timeperiod=10)\n",
    "data['EMA_20'] = talib.EMA(data['Close'], timeperiod=20)\n",
    "\n",
    "# Calculate MACD\n",
    "macd, macd_signal, macd_hist = talib.MACD(data['Close'], fastperiod=12, slowperiod=26, signalperiod=9)\n",
    "\n",
    "# Extract MACD Histogram\n",
    "macd_hist = macd_hist * 2  # Multiply by 2 to match the conventional MACD histogram scaling\n",
    "\n",
    "data['MACD_HIST'] = macd_hist"
   ]
  },
  {
   "cell_type": "code",
   "execution_count": 59,
   "id": "15f10699",
   "metadata": {},
   "outputs": [
    {
     "data": {
      "text/html": [
       "<div>\n",
       "<style scoped>\n",
       "    .dataframe tbody tr th:only-of-type {\n",
       "        vertical-align: middle;\n",
       "    }\n",
       "\n",
       "    .dataframe tbody tr th {\n",
       "        vertical-align: top;\n",
       "    }\n",
       "\n",
       "    .dataframe thead th {\n",
       "        text-align: right;\n",
       "    }\n",
       "</style>\n",
       "<table border=\"1\" class=\"dataframe\">\n",
       "  <thead>\n",
       "    <tr style=\"text-align: right;\">\n",
       "      <th></th>\n",
       "      <th>Open</th>\n",
       "      <th>High</th>\n",
       "      <th>Low</th>\n",
       "      <th>Close</th>\n",
       "      <th>Adj Close</th>\n",
       "      <th>Volume</th>\n",
       "      <th>EMA_10</th>\n",
       "      <th>EMA_20</th>\n",
       "      <th>MACD_HIST</th>\n",
       "    </tr>\n",
       "    <tr>\n",
       "      <th>Date</th>\n",
       "      <th></th>\n",
       "      <th></th>\n",
       "      <th></th>\n",
       "      <th></th>\n",
       "      <th></th>\n",
       "      <th></th>\n",
       "      <th></th>\n",
       "      <th></th>\n",
       "      <th></th>\n",
       "    </tr>\n",
       "  </thead>\n",
       "  <tbody>\n",
       "    <tr>\n",
       "      <th>2020-02-24</th>\n",
       "      <td>323.140015</td>\n",
       "      <td>333.559998</td>\n",
       "      <td>321.239990</td>\n",
       "      <td>322.420013</td>\n",
       "      <td>305.057587</td>\n",
       "      <td>161088400</td>\n",
       "      <td>332.854323</td>\n",
       "      <td>332.092069</td>\n",
       "      <td>-1.214145</td>\n",
       "    </tr>\n",
       "    <tr>\n",
       "      <th>2022-06-30</th>\n",
       "      <td>376.239990</td>\n",
       "      <td>380.660004</td>\n",
       "      <td>372.559998</td>\n",
       "      <td>377.250000</td>\n",
       "      <td>371.188568</td>\n",
       "      <td>112508300</td>\n",
       "      <td>381.360169</td>\n",
       "      <td>386.188211</td>\n",
       "      <td>1.461398</td>\n",
       "    </tr>\n",
       "    <tr>\n",
       "      <th>2022-10-03</th>\n",
       "      <td>361.079987</td>\n",
       "      <td>368.549988</td>\n",
       "      <td>359.209991</td>\n",
       "      <td>366.609985</td>\n",
       "      <td>362.201263</td>\n",
       "      <td>89756500</td>\n",
       "      <td>369.817169</td>\n",
       "      <td>379.018907</td>\n",
       "      <td>-3.382012</td>\n",
       "    </tr>\n",
       "    <tr>\n",
       "      <th>2021-06-24</th>\n",
       "      <td>424.890015</td>\n",
       "      <td>425.549988</td>\n",
       "      <td>424.619995</td>\n",
       "      <td>425.100006</td>\n",
       "      <td>412.406158</td>\n",
       "      <td>45110300</td>\n",
       "      <td>422.266684</td>\n",
       "      <td>421.188639</td>\n",
       "      <td>-0.374870</td>\n",
       "    </tr>\n",
       "    <tr>\n",
       "      <th>2020-10-26</th>\n",
       "      <td>342.130005</td>\n",
       "      <td>342.980011</td>\n",
       "      <td>335.619995</td>\n",
       "      <td>339.390015</td>\n",
       "      <td>325.722137</td>\n",
       "      <td>91473000</td>\n",
       "      <td>343.492035</td>\n",
       "      <td>342.260538</td>\n",
       "      <td>-0.938448</td>\n",
       "    </tr>\n",
       "  </tbody>\n",
       "</table>\n",
       "</div>"
      ],
      "text/plain": [
       "                  Open        High         Low       Close   Adj Close  \\\n",
       "Date                                                                     \n",
       "2020-02-24  323.140015  333.559998  321.239990  322.420013  305.057587   \n",
       "2022-06-30  376.239990  380.660004  372.559998  377.250000  371.188568   \n",
       "2022-10-03  361.079987  368.549988  359.209991  366.609985  362.201263   \n",
       "2021-06-24  424.890015  425.549988  424.619995  425.100006  412.406158   \n",
       "2020-10-26  342.130005  342.980011  335.619995  339.390015  325.722137   \n",
       "\n",
       "               Volume      EMA_10      EMA_20  MACD_HIST  \n",
       "Date                                                      \n",
       "2020-02-24  161088400  332.854323  332.092069  -1.214145  \n",
       "2022-06-30  112508300  381.360169  386.188211   1.461398  \n",
       "2022-10-03   89756500  369.817169  379.018907  -3.382012  \n",
       "2021-06-24   45110300  422.266684  421.188639  -0.374870  \n",
       "2020-10-26   91473000  343.492035  342.260538  -0.938448  "
      ]
     },
     "execution_count": 59,
     "metadata": {},
     "output_type": "execute_result"
    }
   ],
   "source": [
    "data.sample(5)"
   ]
  },
  {
   "cell_type": "markdown",
   "id": "7262c361",
   "metadata": {},
   "source": [
    "## STRATEGY AND BACKTESTING\n",
    "This section applies the trading strategy to the data and backtests it. It generates buy/sell signals based on the strategy's entry and exit conditions. Then, it calculates the portfolio by taking the difference of positions (signals_1['positions'].diff()) and initializes the first position. It also calculates the returns, strategy returns (returns multiplied by portfolio), and cumulative returns. Finally, it prints the cumulative returns and plots them."
   ]
  },
  {
   "cell_type": "code",
   "execution_count": 60,
   "id": "60e1ff6e",
   "metadata": {},
   "outputs": [],
   "source": [
    "signals_1 = strategy(data) "
   ]
  },
  {
   "cell_type": "code",
   "execution_count": 61,
   "id": "52c2cafb",
   "metadata": {},
   "outputs": [
    {
     "data": {
      "text/html": [
       "<div>\n",
       "<style scoped>\n",
       "    .dataframe tbody tr th:only-of-type {\n",
       "        vertical-align: middle;\n",
       "    }\n",
       "\n",
       "    .dataframe tbody tr th {\n",
       "        vertical-align: top;\n",
       "    }\n",
       "\n",
       "    .dataframe thead th {\n",
       "        text-align: right;\n",
       "    }\n",
       "</style>\n",
       "<table border=\"1\" class=\"dataframe\">\n",
       "  <thead>\n",
       "    <tr style=\"text-align: right;\">\n",
       "      <th></th>\n",
       "      <th>positions</th>\n",
       "    </tr>\n",
       "    <tr>\n",
       "      <th>Date</th>\n",
       "      <th></th>\n",
       "    </tr>\n",
       "  </thead>\n",
       "  <tbody>\n",
       "    <tr>\n",
       "      <th>2020-02-20</th>\n",
       "      <td>1</td>\n",
       "    </tr>\n",
       "    <tr>\n",
       "      <th>2020-02-21</th>\n",
       "      <td>1</td>\n",
       "    </tr>\n",
       "    <tr>\n",
       "      <th>2020-02-24</th>\n",
       "      <td>1</td>\n",
       "    </tr>\n",
       "    <tr>\n",
       "      <th>2020-02-25</th>\n",
       "      <td>1</td>\n",
       "    </tr>\n",
       "    <tr>\n",
       "      <th>2020-02-26</th>\n",
       "      <td>1</td>\n",
       "    </tr>\n",
       "    <tr>\n",
       "      <th>...</th>\n",
       "      <td>...</td>\n",
       "    </tr>\n",
       "    <tr>\n",
       "      <th>2022-12-23</th>\n",
       "      <td>1</td>\n",
       "    </tr>\n",
       "    <tr>\n",
       "      <th>2022-12-27</th>\n",
       "      <td>1</td>\n",
       "    </tr>\n",
       "    <tr>\n",
       "      <th>2022-12-28</th>\n",
       "      <td>1</td>\n",
       "    </tr>\n",
       "    <tr>\n",
       "      <th>2022-12-29</th>\n",
       "      <td>1</td>\n",
       "    </tr>\n",
       "    <tr>\n",
       "      <th>2022-12-30</th>\n",
       "      <td>1</td>\n",
       "    </tr>\n",
       "  </tbody>\n",
       "</table>\n",
       "<p>647 rows × 1 columns</p>\n",
       "</div>"
      ],
      "text/plain": [
       "            positions\n",
       "Date                 \n",
       "2020-02-20          1\n",
       "2020-02-21          1\n",
       "2020-02-24          1\n",
       "2020-02-25          1\n",
       "2020-02-26          1\n",
       "...               ...\n",
       "2022-12-23          1\n",
       "2022-12-27          1\n",
       "2022-12-28          1\n",
       "2022-12-29          1\n",
       "2022-12-30          1\n",
       "\n",
       "[647 rows x 1 columns]"
      ]
     },
     "execution_count": 61,
     "metadata": {},
     "output_type": "execute_result"
    }
   ],
   "source": [
    "signals_1[(signals_1['positions'] == 1) ]#| (signals_1['positions']==-1)]"
   ]
  },
  {
   "cell_type": "markdown",
   "id": "36315f9c",
   "metadata": {},
   "source": [
    "## SIGNAL RETURNS  BUY POSITIONS ONLY?"
   ]
  },
  {
   "cell_type": "code",
   "execution_count": 62,
   "id": "4f9cf104",
   "metadata": {},
   "outputs": [],
   "source": [
    "portfolio = signals_1['positions'].diff()\n",
    "\n",
    "portfolio.iloc[0] = signals_1['positions'].iloc[0]\n",
    "\n",
    "data['portfolio'] = portfolio\n",
    "\n",
    "data['returns'] = data['Close'].pct_change()\n",
    "data['strategy_returns'] = data['returns']*data['portfolio']\n",
    "\n",
    "data['cumulative_strategy_returns'] = (1 + data['strategy_returns']).cumprod()\n",
    "data['cumulative_returns'] = (1 + data['returns']).cumprod()\n"
   ]
  },
  {
   "cell_type": "code",
   "execution_count": 65,
   "id": "2f052a83",
   "metadata": {},
   "outputs": [
    {
     "data": {
      "text/plain": [
       "Text(0, 0.5, 'Cumulative Returns')"
      ]
     },
     "execution_count": 65,
     "metadata": {},
     "output_type": "execute_result"
    },
    {
     "data": {
      "image/png": "[encoded data removed]",
      "text/plain": [
       "<Figure size 1200x1200 with 1 Axes>"
      ]
     },
     "metadata": {},
     "output_type": "display_data"
    }
   ],
   "source": [
    "plt.figure(figsize=(12,12))\n",
    "data['cumulative_returns'].plot(label = 'Actual returns', color='darkblue')\n",
    "data['cumulative_strategy_returns'].plot(label = 'Strategy returns', color='red')\n",
    "plt.legend()\n",
    "plt.ylabel('Cumulative Returns')"
   ]
  },
  {
   "cell_type": "code",
   "execution_count": 64,
   "id": "8f77edd4",
   "metadata": {},
   "outputs": [
    {
     "ename": "NameError",
     "evalue": "name 'standard_dev' is not defined",
     "output_type": "error",
     "traceback": [
      "\u001b[1;31m---------------------------------------------------------------------------\u001b[0m",
      "\u001b[1;31mNameError\u001b[0m                                 Traceback (most recent call last)",
      "Cell \u001b[1;32mIn[64], line 4\u001b[0m\n\u001b[0;32m      1\u001b[0m standard_dev_strat\u001b[38;5;241m=\u001b[39m (data[\u001b[38;5;124m'\u001b[39m\u001b[38;5;124mClose\u001b[39m\u001b[38;5;124m'\u001b[39m]\u001b[38;5;241m.\u001b[39mstd())\n\u001b[0;32m      2\u001b[0m returns_strat \u001b[38;5;241m=\u001b[39m \u001b[38;5;241m1.6\u001b[39m \u001b[38;5;241m-\u001b[39m \u001b[38;5;241m1.0\u001b[39m\u001b[38;5;241m/\u001b[39m\u001b[38;5;241m1.0\u001b[39m\n\u001b[1;32m----> 4\u001b[0m \u001b[38;5;28mprint\u001b[39m(\u001b[43mstandard_dev\u001b[49m)\n\u001b[0;32m      5\u001b[0m \u001b[38;5;28mprint\u001b[39m(returns)\n",
      "\u001b[1;31mNameError\u001b[0m: name 'standard_dev' is not defined"
     ]
    }
   ],
   "source": [
    "standard_dev_strat= (data['Close'].std())\n",
    "returns_strat = 1.6 - 1.0/1.0\n",
    "\n",
    "print(standard_dev)\n",
    "print(returns)"
   ]
  },
  {
   "cell_type": "code",
   "execution_count": 24,
   "id": "f1b72d63",
   "metadata": {},
   "outputs": [
    {
     "name": "stdout",
     "output_type": "stream",
     "text": [
      "54.922197078909775\n",
      "0.19999999999999996\n"
     ]
    }
   ],
   "source": [
    "standard_dev_cum= (data['Close'].std())\n",
    "returns_cum = 1.2 - 1.0/1.0\n",
    "\n",
    "print(standard_dev)\n",
    "print(returns)"
   ]
  },
  {
   "cell_type": "code",
   "execution_count": 34,
   "id": "ce639c6a",
   "metadata": {},
   "outputs": [
    {
     "name": "stdout",
     "output_type": "stream",
     "text": [
      "0.003641514918142274\n"
     ]
    }
   ],
   "source": [
    "sharpe_cum = returns_cum/standard_dev_cum\n",
    "\n",
    "print(sharpe_cum)"
   ]
  },
  {
   "cell_type": "code",
   "execution_count": 35,
   "id": "d7624892",
   "metadata": {},
   "outputs": [
    {
     "name": "stdout",
     "output_type": "stream",
     "text": [
      "0.010924544754426824\n"
     ]
    }
   ],
   "source": [
    "sharpe_strat = returns_strat/standard_dev_strat\n",
    "\n",
    "print(sharpe_strat)"
   ]
  },
  {
   "cell_type": "code",
   "execution_count": 36,
   "id": "8f950afa",
   "metadata": {},
   "outputs": [
    {
     "ename": "AttributeError",
     "evalue": "'float' object has no attribute 'plot'",
     "output_type": "error",
     "traceback": [
      "\u001b[1;31m---------------------------------------------------------------------------\u001b[0m",
      "\u001b[1;31mAttributeError\u001b[0m                            Traceback (most recent call last)",
      "Cell \u001b[1;32mIn[36], line 2\u001b[0m\n\u001b[0;32m      1\u001b[0m plt\u001b[38;5;241m.\u001b[39mfigure(figsize\u001b[38;5;241m=\u001b[39m(\u001b[38;5;241m12\u001b[39m,\u001b[38;5;241m12\u001b[39m))\n\u001b[1;32m----> 2\u001b[0m \u001b[43msharpe_cum\u001b[49m\u001b[38;5;241;43m.\u001b[39;49m\u001b[43mplot\u001b[49m(label \u001b[38;5;241m=\u001b[39m \u001b[38;5;124m'\u001b[39m\u001b[38;5;124mSharpe\u001b[39m\u001b[38;5;124m'\u001b[39m, color\u001b[38;5;241m=\u001b[39m\u001b[38;5;124m'\u001b[39m\u001b[38;5;124mdarkblue\u001b[39m\u001b[38;5;124m'\u001b[39m)\n\u001b[0;32m      3\u001b[0m sharpe_strat\u001b[38;5;241m.\u001b[39mplot(label \u001b[38;5;241m=\u001b[39m \u001b[38;5;124m'\u001b[39m\u001b[38;5;124mSharpe\u001b[39m\u001b[38;5;124m'\u001b[39m, color\u001b[38;5;241m=\u001b[39m\u001b[38;5;124m'\u001b[39m\u001b[38;5;124mred\u001b[39m\u001b[38;5;124m'\u001b[39m)\n\u001b[0;32m      4\u001b[0m plt\u001b[38;5;241m.\u001b[39mlegend()\n",
      "\u001b[1;31mAttributeError\u001b[0m: 'float' object has no attribute 'plot'"
     ]
    },
    {
     "data": {
      "text/plain": [
       "<Figure size 1200x1200 with 0 Axes>"
      ]
     },
     "metadata": {},
     "output_type": "display_data"
    }
   ],
   "source": [
    "plt.figure(figsize=(12,12))\n",
    "sharpe_cum.plot(label = 'Sharpe', color='darkblue')\n",
    "sharpe_strat.plot(label = 'Sharpe', color='red')\n",
    "plt.legend()\n",
    "plt.ylabel('Sharp[e ratio]')"
   ]
  },
  {
   "cell_type": "code",
   "execution_count": null,
   "id": "4d59ffa4",
   "metadata": {},
   "outputs": [],
   "source": []
  }
 ],
 "metadata": {
  "kernelspec": {
   "display_name": "Python 3 (ipykernel)",
   "language": "python",
   "name": "python3"
  },
  "language_info": {
   "codemirror_mode": {
    "name": "ipython",
    "version": 3
   },
   "file_extension": ".py",
   "mimetype": "text/x-python",
   "name": "python",
   "nbconvert_exporter": "python",
   "pygments_lexer": "ipython3",
   "version": "3.10.9"
  }
 },
 "nbformat": 4,
 "nbformat_minor": 5
}
