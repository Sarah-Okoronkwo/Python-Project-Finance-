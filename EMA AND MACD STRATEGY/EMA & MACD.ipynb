{
 "cells": [
  {
   "cell_type": "code",
   "execution_count": 4,
   "id": "a232a497",
   "metadata": {},
   "outputs": [],
   "source": [
    "import talib\n",
    "\n",
    "import pandas_datareader.data as web\n",
    "import pandas as pd\n",
    "import numpy as np\n",
    "import matplotlib.pyplot as plt\n",
    "import yfinance as yf"
   ]
  },
  {
   "cell_type": "markdown",
   "id": "fed58ccc",
   "metadata": {},
   "source": [
    "## DEFINING INDICATORS\n",
    "This is a list of indicators provided by TA-Lib to develop your trading strategies."
   ]
  },
  {
   "cell_type": "markdown",
   "id": "1e5959fd",
   "metadata": {},
   "source": [
    "Indicators [EMA(10 and 20), CCI(20),  MACD(12, 26, 9)]\n"
   ]
  },
  {
   "cell_type": "markdown",
   "id": "acc7bceb",
   "metadata": {},
   "source": [
    "# TRADING STRATEGY\n",
    "In this trading strategy, we define entry and exit conditions based on the selected indicators. The conditions are as follows:\n",
    "\n",
    "### Buy signal \n",
    "\n",
    " - Entry Condition:\n",
    "       - Condition 1: Check if 10-period EMA crosses above 20-period EMA.\n",
    "       - Condition 2: Check if CCI crosses the +100 line.\n",
    "       - Condition 3: Check if the MACD line crosses above the zero line.\n",
    "\n",
    " - Exit Condition:\n",
    "       - Condition 1: Check if CCI crosses the -100 line.\n",
    "\n",
    "### Sell signal \n",
    "\n",
    " - Entry Condition:\n",
    "       - Condition 1: Check if 10-period EMA crosses below 20-period EMA.\n",
    "       - Condition 2: Check if CCI crosses the -100 line.\n",
    "       - Condition 3: Check if the MACD line crosses below the zero line.\n",
    "\n",
    " - Exit Condition:\n",
    "       - Condition 1: Check if CCI crosses the +100 line.\n",
    "\n",
    "\n",
    "    \n",
    "    \n",
    "### Generating Signals:\n",
    "\n",
    "   - A DataFrame named signals is created to store the buy/sell signals.\n",
    "   - The 'positions' column is initialized with zeros (no position).\n",
    "   - The entry_condition is used to set the 'positions' value to 1 (buy signal) where the conditions are met.\n",
    "   - The exit_condition is used to set the 'positions' value to -1 (sell signal) where the condition is met."
   ]
  },
  {
   "cell_type": "code",
   "execution_count": 31,
   "id": "a65df012",
   "metadata": {},
   "outputs": [],
   "source": [
    "# Define your trading strategy\n",
    "def strategy(data):\n",
    "    # Define the entry and exit conditions for buy signal\n",
    "    condition1_buy = data['EMA_10'] > data['EMA_20']\n",
    "    condition2_buy = data['MACD'] > data['MACD_SIGNAL']\n",
    "    \n",
    "    entry_condition_buy = condition1_buy & condition2_buy\n",
    "    exit_condition_buy = data['MACD'] < data['MACD_SIGNAL']\n",
    "\n",
    "    # Define the entry and exit conditions for sell signal\n",
    "    condition1_sell = data['EMA_10'] < data['EMA_20']\n",
    "    condition2_sell = data['MACD'] < data['MACD_SIGNAL']\n",
    "\n",
    "    entry_condition_sell = condition1_sell & condition2_sell \n",
    "    exit_condition_sell = data['MACD'] > data['MACD_SIGNAL']\n",
    "\n",
    "    # Generate the signals\n",
    "    signals = pd.DataFrame(index=data.index)\n",
    "    signals['positions'] = 0\n",
    "    signals.loc[entry_condition_buy, 'positions'] = 1\n",
    "    signals.loc[exit_condition_buy, 'positions'] = -1\n",
    "    signals.loc[entry_condition_sell, 'positions'] = -1\n",
    "    signals.loc[exit_condition_sell, 'positions'] = 1\n",
    "\n",
    "    return signals\n"
   ]
  },
  {
   "cell_type": "markdown",
   "id": "fe322236",
   "metadata": {},
   "source": [
    "## HISTORICAL DATA\n",
    "Next, we download historical stock data for the specified symbol (in this case, 'AAPL' for Apple Inc.) from the start date to the end date using the yfinance library."
   ]
  },
  {
   "cell_type": "code",
   "execution_count": 32,
   "id": "df9b0b2d",
   "metadata": {},
   "outputs": [
    {
     "name": "stdout",
     "output_type": "stream",
     "text": [
      "[*********************100%***********************]  1 of 1 completed\n"
     ]
    }
   ],
   "source": [
    "symbol = 'SPY'\n",
    "start_date = '2020-01-01'\n",
    "end_date = '2023-01-01'\n",
    "\n",
    "data = yf.download(symbol, start_date, end_date)"
   ]
  },
  {
   "cell_type": "code",
   "execution_count": 33,
   "id": "0b9f5a52",
   "metadata": {},
   "outputs": [
    {
     "data": {
      "text/html": [
       "<div>\n",
       "<style scoped>\n",
       "    .dataframe tbody tr th:only-of-type {\n",
       "        vertical-align: middle;\n",
       "    }\n",
       "\n",
       "    .dataframe tbody tr th {\n",
       "        vertical-align: top;\n",
       "    }\n",
       "\n",
       "    .dataframe thead th {\n",
       "        text-align: right;\n",
       "    }\n",
       "</style>\n",
       "<table border=\"1\" class=\"dataframe\">\n",
       "  <thead>\n",
       "    <tr style=\"text-align: right;\">\n",
       "      <th></th>\n",
       "      <th>Open</th>\n",
       "      <th>High</th>\n",
       "      <th>Low</th>\n",
       "      <th>Close</th>\n",
       "      <th>Adj Close</th>\n",
       "      <th>Volume</th>\n",
       "    </tr>\n",
       "    <tr>\n",
       "      <th>Date</th>\n",
       "      <th></th>\n",
       "      <th></th>\n",
       "      <th></th>\n",
       "      <th></th>\n",
       "      <th></th>\n",
       "      <th></th>\n",
       "    </tr>\n",
       "  </thead>\n",
       "  <tbody>\n",
       "    <tr>\n",
       "      <th>2020-01-02</th>\n",
       "      <td>323.540009</td>\n",
       "      <td>324.890015</td>\n",
       "      <td>322.529999</td>\n",
       "      <td>324.869995</td>\n",
       "      <td>307.375671</td>\n",
       "      <td>59151200</td>\n",
       "    </tr>\n",
       "    <tr>\n",
       "      <th>2020-01-03</th>\n",
       "      <td>321.160004</td>\n",
       "      <td>323.640015</td>\n",
       "      <td>321.100006</td>\n",
       "      <td>322.410004</td>\n",
       "      <td>305.048126</td>\n",
       "      <td>77709700</td>\n",
       "    </tr>\n",
       "    <tr>\n",
       "      <th>2020-01-06</th>\n",
       "      <td>320.489990</td>\n",
       "      <td>323.730011</td>\n",
       "      <td>320.359985</td>\n",
       "      <td>323.640015</td>\n",
       "      <td>306.211945</td>\n",
       "      <td>55653900</td>\n",
       "    </tr>\n",
       "    <tr>\n",
       "      <th>2020-01-07</th>\n",
       "      <td>323.019989</td>\n",
       "      <td>323.540009</td>\n",
       "      <td>322.239990</td>\n",
       "      <td>322.730011</td>\n",
       "      <td>305.350952</td>\n",
       "      <td>40496400</td>\n",
       "    </tr>\n",
       "    <tr>\n",
       "      <th>2020-01-08</th>\n",
       "      <td>322.940002</td>\n",
       "      <td>325.779999</td>\n",
       "      <td>322.670013</td>\n",
       "      <td>324.450012</td>\n",
       "      <td>306.978302</td>\n",
       "      <td>68296000</td>\n",
       "    </tr>\n",
       "  </tbody>\n",
       "</table>\n",
       "</div>"
      ],
      "text/plain": [
       "                  Open        High         Low       Close   Adj Close  \\\n",
       "Date                                                                     \n",
       "2020-01-02  323.540009  324.890015  322.529999  324.869995  307.375671   \n",
       "2020-01-03  321.160004  323.640015  321.100006  322.410004  305.048126   \n",
       "2020-01-06  320.489990  323.730011  320.359985  323.640015  306.211945   \n",
       "2020-01-07  323.019989  323.540009  322.239990  322.730011  305.350952   \n",
       "2020-01-08  322.940002  325.779999  322.670013  324.450012  306.978302   \n",
       "\n",
       "              Volume  \n",
       "Date                  \n",
       "2020-01-02  59151200  \n",
       "2020-01-03  77709700  \n",
       "2020-01-06  55653900  \n",
       "2020-01-07  40496400  \n",
       "2020-01-08  68296000  "
      ]
     },
     "execution_count": 33,
     "metadata": {},
     "output_type": "execute_result"
    }
   ],
   "source": [
    "data.head()"
   ]
  },
  {
   "cell_type": "markdown",
   "id": "4e626555",
   "metadata": {},
   "source": [
    "## CALCULATING INDICATORS\n"
   ]
  },
  {
   "cell_type": "code",
   "execution_count": 34,
   "id": "797713b0",
   "metadata": {},
   "outputs": [],
   "source": [
    "# Calculate the indicators\n",
    "\n",
    "data['EMA_10'] = talib.EMA(data['Close'], timeperiod=10)\n",
    "data['EMA_20'] = talib.EMA(data['Close'], timeperiod=20)\n",
    "\n",
    "# Calculate MACD\n",
    "\n",
    "macd, macd_signal, macd_hist = talib.MACD(data['Close'], fastperiod=12, slowperiod=26, signalperiod=9)\n",
    "data['MACD'] = macd\n",
    "data['MACD_SIGNAL'] = macd_signal\n",
    "data['MACD_HIST'] = macd_hist"
   ]
  },
  {
   "cell_type": "code",
   "execution_count": 35,
   "id": "15f10699",
   "metadata": {},
   "outputs": [
    {
     "data": {
      "text/html": [
       "<div>\n",
       "<style scoped>\n",
       "    .dataframe tbody tr th:only-of-type {\n",
       "        vertical-align: middle;\n",
       "    }\n",
       "\n",
       "    .dataframe tbody tr th {\n",
       "        vertical-align: top;\n",
       "    }\n",
       "\n",
       "    .dataframe thead th {\n",
       "        text-align: right;\n",
       "    }\n",
       "</style>\n",
       "<table border=\"1\" class=\"dataframe\">\n",
       "  <thead>\n",
       "    <tr style=\"text-align: right;\">\n",
       "      <th></th>\n",
       "      <th>Open</th>\n",
       "      <th>High</th>\n",
       "      <th>Low</th>\n",
       "      <th>Close</th>\n",
       "      <th>Adj Close</th>\n",
       "      <th>Volume</th>\n",
       "      <th>EMA_10</th>\n",
       "      <th>EMA_20</th>\n",
       "      <th>MACD</th>\n",
       "      <th>MACD_SIGNAL</th>\n",
       "      <th>MACD_HIST</th>\n",
       "    </tr>\n",
       "    <tr>\n",
       "      <th>Date</th>\n",
       "      <th></th>\n",
       "      <th></th>\n",
       "      <th></th>\n",
       "      <th></th>\n",
       "      <th></th>\n",
       "      <th></th>\n",
       "      <th></th>\n",
       "      <th></th>\n",
       "      <th></th>\n",
       "      <th></th>\n",
       "      <th></th>\n",
       "    </tr>\n",
       "  </thead>\n",
       "  <tbody>\n",
       "    <tr>\n",
       "      <th>2021-04-15</th>\n",
       "      <td>413.739990</td>\n",
       "      <td>416.160004</td>\n",
       "      <td>413.690002</td>\n",
       "      <td>415.869995</td>\n",
       "      <td>402.136139</td>\n",
       "      <td>60229800</td>\n",
       "      <td>408.805038</td>\n",
       "      <td>403.393087</td>\n",
       "      <td>6.478994</td>\n",
       "      <td>5.227966</td>\n",
       "      <td>1.251028</td>\n",
       "    </tr>\n",
       "    <tr>\n",
       "      <th>2020-08-19</th>\n",
       "      <td>339.049988</td>\n",
       "      <td>339.609985</td>\n",
       "      <td>336.619995</td>\n",
       "      <td>337.230011</td>\n",
       "      <td>322.358643</td>\n",
       "      <td>68054200</td>\n",
       "      <td>335.533155</td>\n",
       "      <td>331.629060</td>\n",
       "      <td>5.333728</td>\n",
       "      <td>5.289968</td>\n",
       "      <td>0.043760</td>\n",
       "    </tr>\n",
       "    <tr>\n",
       "      <th>2021-08-30</th>\n",
       "      <td>450.970001</td>\n",
       "      <td>453.070007</td>\n",
       "      <td>450.709991</td>\n",
       "      <td>452.230011</td>\n",
       "      <td>438.726044</td>\n",
       "      <td>48357400</td>\n",
       "      <td>447.253383</td>\n",
       "      <td>444.586184</td>\n",
       "      <td>3.523439</td>\n",
       "      <td>3.167154</td>\n",
       "      <td>0.356285</td>\n",
       "    </tr>\n",
       "    <tr>\n",
       "      <th>2020-08-21</th>\n",
       "      <td>337.920013</td>\n",
       "      <td>339.720001</td>\n",
       "      <td>337.549988</td>\n",
       "      <td>339.480011</td>\n",
       "      <td>324.509430</td>\n",
       "      <td>55106600</td>\n",
       "      <td>336.659387</td>\n",
       "      <td>332.949867</td>\n",
       "      <td>5.167444</td>\n",
       "      <td>5.254296</td>\n",
       "      <td>-0.086852</td>\n",
       "    </tr>\n",
       "    <tr>\n",
       "      <th>2020-11-02</th>\n",
       "      <td>330.200012</td>\n",
       "      <td>332.359985</td>\n",
       "      <td>327.239990</td>\n",
       "      <td>330.200012</td>\n",
       "      <td>316.902161</td>\n",
       "      <td>86068300</td>\n",
       "      <td>334.803184</td>\n",
       "      <td>337.441638</td>\n",
       "      <td>-2.127660</td>\n",
       "      <td>0.061006</td>\n",
       "      <td>-2.188666</td>\n",
       "    </tr>\n",
       "  </tbody>\n",
       "</table>\n",
       "</div>"
      ],
      "text/plain": [
       "                  Open        High         Low       Close   Adj Close  \\\n",
       "Date                                                                     \n",
       "2021-04-15  413.739990  416.160004  413.690002  415.869995  402.136139   \n",
       "2020-08-19  339.049988  339.609985  336.619995  337.230011  322.358643   \n",
       "2021-08-30  450.970001  453.070007  450.709991  452.230011  438.726044   \n",
       "2020-08-21  337.920013  339.720001  337.549988  339.480011  324.509430   \n",
       "2020-11-02  330.200012  332.359985  327.239990  330.200012  316.902161   \n",
       "\n",
       "              Volume      EMA_10      EMA_20      MACD  MACD_SIGNAL  MACD_HIST  \n",
       "Date                                                                            \n",
       "2021-04-15  60229800  408.805038  403.393087  6.478994     5.227966   1.251028  \n",
       "2020-08-19  68054200  335.533155  331.629060  5.333728     5.289968   0.043760  \n",
       "2021-08-30  48357400  447.253383  444.586184  3.523439     3.167154   0.356285  \n",
       "2020-08-21  55106600  336.659387  332.949867  5.167444     5.254296  -0.086852  \n",
       "2020-11-02  86068300  334.803184  337.441638 -2.127660     0.061006  -2.188666  "
      ]
     },
     "execution_count": 35,
     "metadata": {},
     "output_type": "execute_result"
    }
   ],
   "source": [
    "data.sample(5)"
   ]
  },
  {
   "cell_type": "markdown",
   "id": "7262c361",
   "metadata": {},
   "source": [
    "## STRATEGY AND BACKTESTING\n",
    "This section applies the trading strategy to the data and backtests it. It generates buy/sell signals based on the strategy's entry and exit conditions. Then, it calculates the portfolio by taking the difference of positions (signals_1['positions'].diff()) and initializes the first position. It also calculates the returns, strategy returns (returns multiplied by portfolio), and cumulative returns. Finally, it prints the cumulative returns and plots them."
   ]
  },
  {
   "cell_type": "code",
   "execution_count": 36,
   "id": "60e1ff6e",
   "metadata": {},
   "outputs": [],
   "source": [
    "signals_1 = strategy(data) "
   ]
  },
  {
   "cell_type": "code",
   "execution_count": 37,
   "id": "52c2cafb",
   "metadata": {},
   "outputs": [
    {
     "data": {
      "text/html": [
       "<div>\n",
       "<style scoped>\n",
       "    .dataframe tbody tr th:only-of-type {\n",
       "        vertical-align: middle;\n",
       "    }\n",
       "\n",
       "    .dataframe tbody tr th {\n",
       "        vertical-align: top;\n",
       "    }\n",
       "\n",
       "    .dataframe thead th {\n",
       "        text-align: right;\n",
       "    }\n",
       "</style>\n",
       "<table border=\"1\" class=\"dataframe\">\n",
       "  <thead>\n",
       "    <tr style=\"text-align: right;\">\n",
       "      <th></th>\n",
       "      <th>positions</th>\n",
       "    </tr>\n",
       "    <tr>\n",
       "      <th>Date</th>\n",
       "      <th></th>\n",
       "    </tr>\n",
       "  </thead>\n",
       "  <tbody>\n",
       "    <tr>\n",
       "      <th>2020-02-20</th>\n",
       "      <td>1</td>\n",
       "    </tr>\n",
       "    <tr>\n",
       "      <th>2020-02-21</th>\n",
       "      <td>1</td>\n",
       "    </tr>\n",
       "    <tr>\n",
       "      <th>2020-03-26</th>\n",
       "      <td>1</td>\n",
       "    </tr>\n",
       "    <tr>\n",
       "      <th>2020-03-27</th>\n",
       "      <td>1</td>\n",
       "    </tr>\n",
       "    <tr>\n",
       "      <th>2020-03-30</th>\n",
       "      <td>1</td>\n",
       "    </tr>\n",
       "    <tr>\n",
       "      <th>...</th>\n",
       "      <td>...</td>\n",
       "    </tr>\n",
       "    <tr>\n",
       "      <th>2022-11-29</th>\n",
       "      <td>1</td>\n",
       "    </tr>\n",
       "    <tr>\n",
       "      <th>2022-11-30</th>\n",
       "      <td>1</td>\n",
       "    </tr>\n",
       "    <tr>\n",
       "      <th>2022-12-01</th>\n",
       "      <td>1</td>\n",
       "    </tr>\n",
       "    <tr>\n",
       "      <th>2022-12-02</th>\n",
       "      <td>1</td>\n",
       "    </tr>\n",
       "    <tr>\n",
       "      <th>2022-12-05</th>\n",
       "      <td>1</td>\n",
       "    </tr>\n",
       "  </tbody>\n",
       "</table>\n",
       "<p>389 rows × 1 columns</p>\n",
       "</div>"
      ],
      "text/plain": [
       "            positions\n",
       "Date                 \n",
       "2020-02-20          1\n",
       "2020-02-21          1\n",
       "2020-03-26          1\n",
       "2020-03-27          1\n",
       "2020-03-30          1\n",
       "...               ...\n",
       "2022-11-29          1\n",
       "2022-11-30          1\n",
       "2022-12-01          1\n",
       "2022-12-02          1\n",
       "2022-12-05          1\n",
       "\n",
       "[389 rows x 1 columns]"
      ]
     },
     "execution_count": 37,
     "metadata": {},
     "output_type": "execute_result"
    }
   ],
   "source": [
    "signals_1[(signals_1['positions'] == 1) ]#| (signals_1['positions']==-1)]"
   ]
  },
  {
   "cell_type": "markdown",
   "id": "36315f9c",
   "metadata": {},
   "source": [
    "## SIGNAL RETURNS  BUY POSITIONS ONLY?"
   ]
  },
  {
   "cell_type": "code",
   "execution_count": 42,
   "id": "4f9cf104",
   "metadata": {},
   "outputs": [],
   "source": [
    "portfolio = signals_1['positions'].diff()\n",
    "\n",
    "portfolio.iloc[0] = signals_1['positions'].iloc[0]\n",
    "\n",
    "data['portfolio'] = portfolio\n",
    "\n",
    "data['returns'] = data['Close'].pct_change()\n",
    "data['strategy_returns'] = data['returns']*data['portfolio']\n",
    "\n",
    "data['cumulative_strategy_returns'] = (1 + data['strategy_returns']).cumprod()\n",
    "data['cumulative_returns'] = (1 + data['returns']).cumprod()\n"
   ]
  },
  {
   "cell_type": "code",
   "execution_count": 41,
   "id": "2f052a83",
   "metadata": {},
   "outputs": [
    {
     "data": {
      "text/plain": [
       "Text(0, 0.5, 'Cumulative Returns')"
      ]
     },
     "execution_count": 41,
     "metadata": {},
     "output_type": "execute_result"
    },
    {
     "data": {
      "image/png": "[encoded data removed]",
      "text/plain": [
       "<Figure size 1200x1200 with 1 Axes>"
      ]
     },
     "metadata": {},
     "output_type": "display_data"
    }
   ],
   "source": [
    "plt.figure(figsize=(12,12))\n",
    "data['cumulative_returns'].plot(label = 'Actual returns', color='darkblue')\n",
    "data['cumulative_strategy_returns'].plot(label = 'Strategy returns', color='red')\n",
    "plt.legend()\n",
    "plt.ylabel('Cumulative Returns')"
   ]
  },
  {
   "cell_type": "code",
   "execution_count": 40,
   "id": "8f77edd4",
   "metadata": {},
   "outputs": [
    {
     "ename": "NameError",
     "evalue": "name 'standard_dev' is not defined",
     "output_type": "error",
     "traceback": [
      "\u001b[1;31m---------------------------------------------------------------------------\u001b[0m",
      "\u001b[1;31mNameError\u001b[0m                                 Traceback (most recent call last)",
      "Cell \u001b[1;32mIn[40], line 4\u001b[0m\n\u001b[0;32m      1\u001b[0m standard_dev_strat\u001b[38;5;241m=\u001b[39m (data[\u001b[38;5;124m'\u001b[39m\u001b[38;5;124mClose\u001b[39m\u001b[38;5;124m'\u001b[39m]\u001b[38;5;241m.\u001b[39mstd())\n\u001b[0;32m      2\u001b[0m returns_strat \u001b[38;5;241m=\u001b[39m \u001b[38;5;241m1.6\u001b[39m \u001b[38;5;241m-\u001b[39m \u001b[38;5;241m1.0\u001b[39m\u001b[38;5;241m/\u001b[39m\u001b[38;5;241m1.0\u001b[39m\n\u001b[1;32m----> 4\u001b[0m \u001b[38;5;28mprint\u001b[39m(\u001b[43mstandard_dev\u001b[49m)\n\u001b[0;32m      5\u001b[0m \u001b[38;5;28mprint\u001b[39m(returns)\n",
      "\u001b[1;31mNameError\u001b[0m: name 'standard_dev' is not defined"
     ]
    }
   ],
   "source": [
    "standard_dev_strat= (data['Close'].std())\n",
    "returns_strat = 1.6 - 1.0/1.0\n",
    "\n",
    "print(standard_dev)\n",
    "print(returns)"
   ]
  },
  {
   "cell_type": "code",
   "execution_count": 24,
   "id": "f1b72d63",
   "metadata": {},
   "outputs": [
    {
     "name": "stdout",
     "output_type": "stream",
     "text": [
      "54.922197078909775\n",
      "0.19999999999999996\n"
     ]
    }
   ],
   "source": [
    "standard_dev_cum= (data['Close'].std())\n",
    "returns_cum = 1.2 - 1.0/1.0\n",
    "\n",
    "print(standard_dev)\n",
    "print(returns)"
   ]
  },
  {
   "cell_type": "code",
   "execution_count": 34,
   "id": "ce639c6a",
   "metadata": {},
   "outputs": [
    {
     "name": "stdout",
     "output_type": "stream",
     "text": [
      "0.003641514918142274\n"
     ]
    }
   ],
   "source": [
    "sharpe_cum = returns_cum/standard_dev_cum\n",
    "\n",
    "print(sharpe_cum)"
   ]
  },
  {
   "cell_type": "code",
   "execution_count": 35,
   "id": "d7624892",
   "metadata": {},
   "outputs": [
    {
     "name": "stdout",
     "output_type": "stream",
     "text": [
      "0.010924544754426824\n"
     ]
    }
   ],
   "source": [
    "sharpe_strat = returns_strat/standard_dev_strat\n",
    "\n",
    "print(sharpe_strat)"
   ]
  },
  {
   "cell_type": "code",
   "execution_count": 36,
   "id": "8f950afa",
   "metadata": {},
   "outputs": [
    {
     "ename": "AttributeError",
     "evalue": "'float' object has no attribute 'plot'",
     "output_type": "error",
     "traceback": [
      "\u001b[1;31m---------------------------------------------------------------------------\u001b[0m",
      "\u001b[1;31mAttributeError\u001b[0m                            Traceback (most recent call last)",
      "Cell \u001b[1;32mIn[36], line 2\u001b[0m\n\u001b[0;32m      1\u001b[0m plt\u001b[38;5;241m.\u001b[39mfigure(figsize\u001b[38;5;241m=\u001b[39m(\u001b[38;5;241m12\u001b[39m,\u001b[38;5;241m12\u001b[39m))\n\u001b[1;32m----> 2\u001b[0m \u001b[43msharpe_cum\u001b[49m\u001b[38;5;241;43m.\u001b[39;49m\u001b[43mplot\u001b[49m(label \u001b[38;5;241m=\u001b[39m \u001b[38;5;124m'\u001b[39m\u001b[38;5;124mSharpe\u001b[39m\u001b[38;5;124m'\u001b[39m, color\u001b[38;5;241m=\u001b[39m\u001b[38;5;124m'\u001b[39m\u001b[38;5;124mdarkblue\u001b[39m\u001b[38;5;124m'\u001b[39m)\n\u001b[0;32m      3\u001b[0m sharpe_strat\u001b[38;5;241m.\u001b[39mplot(label \u001b[38;5;241m=\u001b[39m \u001b[38;5;124m'\u001b[39m\u001b[38;5;124mSharpe\u001b[39m\u001b[38;5;124m'\u001b[39m, color\u001b[38;5;241m=\u001b[39m\u001b[38;5;124m'\u001b[39m\u001b[38;5;124mred\u001b[39m\u001b[38;5;124m'\u001b[39m)\n\u001b[0;32m      4\u001b[0m plt\u001b[38;5;241m.\u001b[39mlegend()\n",
      "\u001b[1;31mAttributeError\u001b[0m: 'float' object has no attribute 'plot'"
     ]
    },
    {
     "data": {
      "text/plain": [
       "<Figure size 1200x1200 with 0 Axes>"
      ]
     },
     "metadata": {},
     "output_type": "display_data"
    }
   ],
   "source": [
    "plt.figure(figsize=(12,12))\n",
    "sharpe_cum.plot(label = 'Sharpe', color='darkblue')\n",
    "sharpe_strat.plot(label = 'Sharpe', color='red')\n",
    "plt.legend()\n",
    "plt.ylabel('Sharp[e ratio]')"
   ]
  },
  {
   "cell_type": "code",
   "execution_count": null,
   "id": "4d59ffa4",
   "metadata": {},
   "outputs": [],
   "source": []
  }
 ],
 "metadata": {
  "kernelspec": {
   "display_name": "Python 3 (ipykernel)",
   "language": "python",
   "name": "python3"
  },
  "language_info": {
   "codemirror_mode": {
    "name": "ipython",
    "version": 3
   },
   "file_extension": ".py",
   "mimetype": "text/x-python",
   "name": "python",
   "nbconvert_exporter": "python",
   "pygments_lexer": "ipython3",
   "version": "3.10.9"
  }
 },
 "nbformat": 4,
 "nbformat_minor": 5
}
