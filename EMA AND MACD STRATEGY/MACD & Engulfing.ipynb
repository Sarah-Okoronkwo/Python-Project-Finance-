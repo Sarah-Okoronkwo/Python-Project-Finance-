{
 "cells": [
  {
   "cell_type": "code",
   "execution_count": 1,
   "id": "4bb738bb",
   "metadata": {},
   "outputs": [],
   "source": [
    "import talib\n",
    "\n",
    "import pandas_datareader.data as web\n",
    "import pandas as pd\n",
    "import numpy as np\n",
    "import matplotlib.pyplot as plt\n",
    "import yfinance as yf"
   ]
  },
  {
   "cell_type": "markdown",
   "id": "30eb4afc",
   "metadata": {},
   "source": [
    "## DEFINING INDICATORS\n",
    "This is a list of indicators provided by TA-Lib to develop your trading strategies."
   ]
  },
  {
   "cell_type": "code",
   "execution_count": 2,
   "id": "0f10517b",
   "metadata": {},
   "outputs": [
    {
     "ename": "SyntaxError",
     "evalue": "invalid syntax. Perhaps you forgot a comma? (667692244.py, line 1)",
     "output_type": "error",
     "traceback": [
      "\u001b[1;36m  Cell \u001b[1;32mIn[2], line 1\u001b[1;36m\u001b[0m\n\u001b[1;33m    Indicators [RSI, Only MACD Histogram(12, 26, 9)]\u001b[0m\n\u001b[1;37m                     ^\u001b[0m\n\u001b[1;31mSyntaxError\u001b[0m\u001b[1;31m:\u001b[0m invalid syntax. Perhaps you forgot a comma?\n"
     ]
    }
   ],
   "source": [
    "Indicators [RSI, Only MACD Histogram(12, 26, 9)]"
   ]
  },
  {
   "cell_type": "markdown",
   "id": "de688e57",
   "metadata": {},
   "source": [
    "# TRADING STRATEGY\n",
    "In this trading strategy, we define entry and exit conditions based on the selected indicators. The conditions are as follows:\n",
    "\n",
    "### Buy signal \n",
    "\n",
    " - Entry Condition:\n",
    "       - Condition 1:  Check if RSI crosses above the Zero line.\n",
    "       - Condition 2: Check if the MACD histogram crosses above the zero line.\n",
    "\n",
    " - Exit Condition:\n",
    "       - Condition 1: Check if the MACD histogram crosses below the zero line.\n",
    "\n",
    "\n",
    "### Sell signal \n",
    "\n",
    " - Entry Condition:\n",
    "       - Condition 1: Check if RSI crosses below the Zero line.\n",
    "       - Condition 2: Check if the MACD histogram crosses below the zero line.\n",
    "\n",
    " - Exit Condition:\n",
    "       - Condition 1:  Check if the MACD histogram crosses above the zero line.\n",
    "\n",
    "\n",
    "\n",
    "    \n",
    "    \n",
    "### Generating Signals:\n",
    "\n",
    "   - A DataFrame named signals is created to store the buy/sell signals.\n",
    "   - The 'positions' column is initialized with zeros (no position).\n",
    "   - The entry_condition is used to set the 'positions' value to 1 (buy signal) where the conditions are met.\n",
    "   - The exit_condition is used to set the 'positions' value to -1 (sell signal) where the condition is met."
   ]
  },
  {
   "cell_type": "code",
   "execution_count": 3,
   "id": "b92d1bae",
   "metadata": {},
   "outputs": [],
   "source": [
    "# Define your trading strategy\n",
    "def strategy(data):\n",
    "    # Define the entry and exit conditions for buy signal\n",
    "    condition1_buy = data['MACD'] > data['MACD_SIGNAL']\n",
    "\n",
    "    entry_condition_buy = condition1_buy \n",
    "    exit_condition_buy = bearish_engulfing > 0\n",
    "    \n",
    "    # Define the entry and exit conditions for sell signal\n",
    "    condition1_sell = data['MACD'] < data['MACD_SIGNAL']\n",
    "\n",
    "    entry_condition_sell = condition1_sell \n",
    "    exit_condition_sell = bullish_engulfing > 0\n",
    "\n",
    "    # Generate the signals\n",
    "    signals = pd.DataFrame(index=data.index)\n",
    "    signals['positions'] = 0\n",
    "    signals.loc[entry_condition_buy, 'positions'] = 1\n",
    "    signals.loc[exit_condition_buy, 'positions'] = -1\n",
    "    signals.loc[entry_condition_sell, 'positions'] = -1\n",
    "    signals.loc[exit_condition_sell, 'positions'] = 1\n",
    "\n",
    "    return signals\n"
   ]
  },
  {
   "cell_type": "markdown",
   "id": "0a95e4f0",
   "metadata": {},
   "source": [
    "## HISTORICAL DATA\n",
    "Next, we download historical stock data for the specified symbol (in this case, 'SPY') from the start date to the end date using the yfinance library."
   ]
  },
  {
   "cell_type": "code",
   "execution_count": 4,
   "id": "5dbb4e88",
   "metadata": {},
   "outputs": [
    {
     "name": "stdout",
     "output_type": "stream",
     "text": [
      "[*********************100%***********************]  1 of 1 completed\n"
     ]
    }
   ],
   "source": [
    "symbol = 'SPY'\n",
    "start_date = '2020-01-01'\n",
    "end_date = '2023-01-01'\n",
    "\n",
    "data = yf.download(symbol, start_date, end_date)"
   ]
  },
  {
   "cell_type": "code",
   "execution_count": 5,
   "id": "3e38759e",
   "metadata": {},
   "outputs": [
    {
     "data": {
      "text/html": [
       "<div>\n",
       "<style scoped>\n",
       "    .dataframe tbody tr th:only-of-type {\n",
       "        vertical-align: middle;\n",
       "    }\n",
       "\n",
       "    .dataframe tbody tr th {\n",
       "        vertical-align: top;\n",
       "    }\n",
       "\n",
       "    .dataframe thead th {\n",
       "        text-align: right;\n",
       "    }\n",
       "</style>\n",
       "<table border=\"1\" class=\"dataframe\">\n",
       "  <thead>\n",
       "    <tr style=\"text-align: right;\">\n",
       "      <th></th>\n",
       "      <th>Open</th>\n",
       "      <th>High</th>\n",
       "      <th>Low</th>\n",
       "      <th>Close</th>\n",
       "      <th>Adj Close</th>\n",
       "      <th>Volume</th>\n",
       "    </tr>\n",
       "    <tr>\n",
       "      <th>Date</th>\n",
       "      <th></th>\n",
       "      <th></th>\n",
       "      <th></th>\n",
       "      <th></th>\n",
       "      <th></th>\n",
       "      <th></th>\n",
       "    </tr>\n",
       "  </thead>\n",
       "  <tbody>\n",
       "    <tr>\n",
       "      <th>2020-01-02</th>\n",
       "      <td>323.540009</td>\n",
       "      <td>324.890015</td>\n",
       "      <td>322.529999</td>\n",
       "      <td>324.869995</td>\n",
       "      <td>307.375671</td>\n",
       "      <td>59151200</td>\n",
       "    </tr>\n",
       "    <tr>\n",
       "      <th>2020-01-03</th>\n",
       "      <td>321.160004</td>\n",
       "      <td>323.640015</td>\n",
       "      <td>321.100006</td>\n",
       "      <td>322.410004</td>\n",
       "      <td>305.048126</td>\n",
       "      <td>77709700</td>\n",
       "    </tr>\n",
       "    <tr>\n",
       "      <th>2020-01-06</th>\n",
       "      <td>320.489990</td>\n",
       "      <td>323.730011</td>\n",
       "      <td>320.359985</td>\n",
       "      <td>323.640015</td>\n",
       "      <td>306.211914</td>\n",
       "      <td>55653900</td>\n",
       "    </tr>\n",
       "    <tr>\n",
       "      <th>2020-01-07</th>\n",
       "      <td>323.019989</td>\n",
       "      <td>323.540009</td>\n",
       "      <td>322.239990</td>\n",
       "      <td>322.730011</td>\n",
       "      <td>305.350922</td>\n",
       "      <td>40496400</td>\n",
       "    </tr>\n",
       "    <tr>\n",
       "      <th>2020-01-08</th>\n",
       "      <td>322.940002</td>\n",
       "      <td>325.779999</td>\n",
       "      <td>322.670013</td>\n",
       "      <td>324.450012</td>\n",
       "      <td>306.978302</td>\n",
       "      <td>68296000</td>\n",
       "    </tr>\n",
       "  </tbody>\n",
       "</table>\n",
       "</div>"
      ],
      "text/plain": [
       "                  Open        High         Low       Close   Adj Close  \\\n",
       "Date                                                                     \n",
       "2020-01-02  323.540009  324.890015  322.529999  324.869995  307.375671   \n",
       "2020-01-03  321.160004  323.640015  321.100006  322.410004  305.048126   \n",
       "2020-01-06  320.489990  323.730011  320.359985  323.640015  306.211914   \n",
       "2020-01-07  323.019989  323.540009  322.239990  322.730011  305.350922   \n",
       "2020-01-08  322.940002  325.779999  322.670013  324.450012  306.978302   \n",
       "\n",
       "              Volume  \n",
       "Date                  \n",
       "2020-01-02  59151200  \n",
       "2020-01-03  77709700  \n",
       "2020-01-06  55653900  \n",
       "2020-01-07  40496400  \n",
       "2020-01-08  68296000  "
      ]
     },
     "execution_count": 5,
     "metadata": {},
     "output_type": "execute_result"
    }
   ],
   "source": [
    "data.head()"
   ]
  },
  {
   "cell_type": "markdown",
   "id": "308b92bf",
   "metadata": {},
   "source": [
    "## CALCULATING INDICATORS\n"
   ]
  },
  {
   "cell_type": "code",
   "execution_count": 6,
   "id": "203fb588",
   "metadata": {},
   "outputs": [],
   "source": [
    "# Calculate the indicators\n",
    "#data['CCI'] = talib.RSI(data['Close'], timeperiod=20)\n",
    "\n",
    "bullish_engulfing = (data['Open'].shift(1) > data['Close'].shift(1)) & (data['Close'] > data['Open']) & (data['Open'] > data['Close'].shift(1)) & (data['Close'] > data['Open'].shift(1))\n",
    "bearish_engulfing = (data['Close'].shift(1) > data['Open'].shift(1)) & (data['Open'] > data['Close'].shift(1)) & (data['Close'].shift(1) > data['Open']) & (data['Open'].shift(1) > data['Close'])\n",
    "\n",
    "\n",
    "# Calculate MACD\n",
    "macd, macd_signal, macd_hist = talib.MACD(data['Close'], fastperiod=12, slowperiod=26, signalperiod=9)\n",
    "data['MACD'] = macd\n",
    "data['MACD_SIGNAL'] = macd_signal\n",
    "data['MACD_HIST'] = macd_hist"
   ]
  },
  {
   "cell_type": "code",
   "execution_count": 7,
   "id": "84791f28",
   "metadata": {},
   "outputs": [
    {
     "data": {
      "text/html": [
       "<div>\n",
       "<style scoped>\n",
       "    .dataframe tbody tr th:only-of-type {\n",
       "        vertical-align: middle;\n",
       "    }\n",
       "\n",
       "    .dataframe tbody tr th {\n",
       "        vertical-align: top;\n",
       "    }\n",
       "\n",
       "    .dataframe thead th {\n",
       "        text-align: right;\n",
       "    }\n",
       "</style>\n",
       "<table border=\"1\" class=\"dataframe\">\n",
       "  <thead>\n",
       "    <tr style=\"text-align: right;\">\n",
       "      <th></th>\n",
       "      <th>Open</th>\n",
       "      <th>High</th>\n",
       "      <th>Low</th>\n",
       "      <th>Close</th>\n",
       "      <th>Adj Close</th>\n",
       "      <th>Volume</th>\n",
       "      <th>MACD</th>\n",
       "      <th>MACD_SIGNAL</th>\n",
       "      <th>MACD_HIST</th>\n",
       "    </tr>\n",
       "    <tr>\n",
       "      <th>Date</th>\n",
       "      <th></th>\n",
       "      <th></th>\n",
       "      <th></th>\n",
       "      <th></th>\n",
       "      <th></th>\n",
       "      <th></th>\n",
       "      <th></th>\n",
       "      <th></th>\n",
       "      <th></th>\n",
       "    </tr>\n",
       "  </thead>\n",
       "  <tbody>\n",
       "    <tr>\n",
       "      <th>2021-07-09</th>\n",
       "      <td>432.529999</td>\n",
       "      <td>435.839996</td>\n",
       "      <td>430.709991</td>\n",
       "      <td>435.519989</td>\n",
       "      <td>422.514984</td>\n",
       "      <td>76238600</td>\n",
       "      <td>3.849285</td>\n",
       "      <td>3.172611</td>\n",
       "      <td>0.676673</td>\n",
       "    </tr>\n",
       "    <tr>\n",
       "      <th>2022-07-15</th>\n",
       "      <td>382.549988</td>\n",
       "      <td>385.250000</td>\n",
       "      <td>380.540009</td>\n",
       "      <td>385.130005</td>\n",
       "      <td>378.941956</td>\n",
       "      <td>79060400</td>\n",
       "      <td>-3.282774</td>\n",
       "      <td>-4.347920</td>\n",
       "      <td>1.065146</td>\n",
       "    </tr>\n",
       "    <tr>\n",
       "      <th>2020-01-08</th>\n",
       "      <td>322.940002</td>\n",
       "      <td>325.779999</td>\n",
       "      <td>322.670013</td>\n",
       "      <td>324.450012</td>\n",
       "      <td>306.978302</td>\n",
       "      <td>68296000</td>\n",
       "      <td>NaN</td>\n",
       "      <td>NaN</td>\n",
       "      <td>NaN</td>\n",
       "    </tr>\n",
       "    <tr>\n",
       "      <th>2021-05-13</th>\n",
       "      <td>407.070007</td>\n",
       "      <td>412.350006</td>\n",
       "      <td>407.019989</td>\n",
       "      <td>410.279999</td>\n",
       "      <td>396.730743</td>\n",
       "      <td>106394000</td>\n",
       "      <td>1.984006</td>\n",
       "      <td>3.808354</td>\n",
       "      <td>-1.824348</td>\n",
       "    </tr>\n",
       "    <tr>\n",
       "      <th>2020-11-10</th>\n",
       "      <td>353.489990</td>\n",
       "      <td>355.179993</td>\n",
       "      <td>350.510010</td>\n",
       "      <td>354.040009</td>\n",
       "      <td>339.782104</td>\n",
       "      <td>85552000</td>\n",
       "      <td>2.655883</td>\n",
       "      <td>0.735154</td>\n",
       "      <td>1.920729</td>\n",
       "    </tr>\n",
       "  </tbody>\n",
       "</table>\n",
       "</div>"
      ],
      "text/plain": [
       "                  Open        High         Low       Close   Adj Close  \\\n",
       "Date                                                                     \n",
       "2021-07-09  432.529999  435.839996  430.709991  435.519989  422.514984   \n",
       "2022-07-15  382.549988  385.250000  380.540009  385.130005  378.941956   \n",
       "2020-01-08  322.940002  325.779999  322.670013  324.450012  306.978302   \n",
       "2021-05-13  407.070007  412.350006  407.019989  410.279999  396.730743   \n",
       "2020-11-10  353.489990  355.179993  350.510010  354.040009  339.782104   \n",
       "\n",
       "               Volume      MACD  MACD_SIGNAL  MACD_HIST  \n",
       "Date                                                     \n",
       "2021-07-09   76238600  3.849285     3.172611   0.676673  \n",
       "2022-07-15   79060400 -3.282774    -4.347920   1.065146  \n",
       "2020-01-08   68296000       NaN          NaN        NaN  \n",
       "2021-05-13  106394000  1.984006     3.808354  -1.824348  \n",
       "2020-11-10   85552000  2.655883     0.735154   1.920729  "
      ]
     },
     "execution_count": 7,
     "metadata": {},
     "output_type": "execute_result"
    }
   ],
   "source": [
    "data.sample(5)"
   ]
  },
  {
   "cell_type": "markdown",
   "id": "a049d4a6",
   "metadata": {},
   "source": [
    "## STRATEGY AND BACKTESTING\n",
    "This section applies the trading strategy to the data and backtests it. It generates buy/sell signals based on the strategy's entry and exit conditions. Then, it calculates the portfolio by taking the difference of positions (signals_1['positions'].diff()) and initializes the first position. It also calculates the returns, strategy returns (returns multiplied by portfolio), and cumulative returns. Finally, it prints the cumulative returns and plots them."
   ]
  },
  {
   "cell_type": "markdown",
   "id": "75cb65d0",
   "metadata": {},
   "source": [
    "# USING "
   ]
  },
  {
   "cell_type": "code",
   "execution_count": 8,
   "id": "4b5cf0f4",
   "metadata": {},
   "outputs": [],
   "source": [
    "signals_1 = strategy(data) "
   ]
  },
  {
   "cell_type": "code",
   "execution_count": 9,
   "id": "59b7ff60",
   "metadata": {
    "scrolled": false
   },
   "outputs": [
    {
     "data": {
      "text/html": [
       "<div>\n",
       "<style scoped>\n",
       "    .dataframe tbody tr th:only-of-type {\n",
       "        vertical-align: middle;\n",
       "    }\n",
       "\n",
       "    .dataframe tbody tr th {\n",
       "        vertical-align: top;\n",
       "    }\n",
       "\n",
       "    .dataframe thead th {\n",
       "        text-align: right;\n",
       "    }\n",
       "</style>\n",
       "<table border=\"1\" class=\"dataframe\">\n",
       "  <thead>\n",
       "    <tr style=\"text-align: right;\">\n",
       "      <th></th>\n",
       "      <th>positions</th>\n",
       "    </tr>\n",
       "    <tr>\n",
       "      <th>Date</th>\n",
       "      <th></th>\n",
       "    </tr>\n",
       "  </thead>\n",
       "  <tbody>\n",
       "    <tr>\n",
       "      <th>2020-01-08</th>\n",
       "      <td>1</td>\n",
       "    </tr>\n",
       "    <tr>\n",
       "      <th>2020-01-13</th>\n",
       "      <td>1</td>\n",
       "    </tr>\n",
       "    <tr>\n",
       "      <th>2020-02-12</th>\n",
       "      <td>1</td>\n",
       "    </tr>\n",
       "    <tr>\n",
       "      <th>2020-02-20</th>\n",
       "      <td>1</td>\n",
       "    </tr>\n",
       "    <tr>\n",
       "      <th>2020-02-21</th>\n",
       "      <td>1</td>\n",
       "    </tr>\n",
       "    <tr>\n",
       "      <th>...</th>\n",
       "      <td>...</td>\n",
       "    </tr>\n",
       "    <tr>\n",
       "      <th>2022-12-23</th>\n",
       "      <td>-1</td>\n",
       "    </tr>\n",
       "    <tr>\n",
       "      <th>2022-12-27</th>\n",
       "      <td>-1</td>\n",
       "    </tr>\n",
       "    <tr>\n",
       "      <th>2022-12-28</th>\n",
       "      <td>-1</td>\n",
       "    </tr>\n",
       "    <tr>\n",
       "      <th>2022-12-29</th>\n",
       "      <td>1</td>\n",
       "    </tr>\n",
       "    <tr>\n",
       "      <th>2022-12-30</th>\n",
       "      <td>-1</td>\n",
       "    </tr>\n",
       "  </tbody>\n",
       "</table>\n",
       "<p>726 rows × 1 columns</p>\n",
       "</div>"
      ],
      "text/plain": [
       "            positions\n",
       "Date                 \n",
       "2020-01-08          1\n",
       "2020-01-13          1\n",
       "2020-02-12          1\n",
       "2020-02-20          1\n",
       "2020-02-21          1\n",
       "...               ...\n",
       "2022-12-23         -1\n",
       "2022-12-27         -1\n",
       "2022-12-28         -1\n",
       "2022-12-29          1\n",
       "2022-12-30         -1\n",
       "\n",
       "[726 rows x 1 columns]"
      ]
     },
     "execution_count": 9,
     "metadata": {},
     "output_type": "execute_result"
    }
   ],
   "source": [
    "signals_1[(signals_1['positions'] == 1) | (signals_1['positions']==-1)]"
   ]
  },
  {
   "cell_type": "markdown",
   "id": "b0f9e8df",
   "metadata": {},
   "source": [
    "# PORTFOLIO "
   ]
  },
  {
   "cell_type": "code",
   "execution_count": 10,
   "id": "b2e4f738",
   "metadata": {},
   "outputs": [],
   "source": [
    "portfolio = signals_1['positions'].diff()\n",
    "\n",
    "portfolio.iloc[0] = signals_1['positions'].iloc[0]\n",
    "\n",
    "data['portfolio'] = portfolio\n",
    "\n",
    "data['returns'] = data['Close'].pct_change()\n",
    "data['strategy_returns'] = data['returns']*data['portfolio']\n",
    "\n",
    "data['cumulative_strategy_returns'] = (1 + data['strategy_returns']).cumprod()\n",
    "data['cumulative_returns'] = (1 + data['returns']).cumprod()"
   ]
  },
  {
   "cell_type": "code",
   "execution_count": 11,
   "id": "6245c38c",
   "metadata": {},
   "outputs": [
    {
     "data": {
      "text/plain": [
       "Text(0, 0.5, 'Cumulative Returns')"
      ]
     },
     "execution_count": 11,
     "metadata": {},
     "output_type": "execute_result"
    },
    {
     "data": {
      "image/png": "[encoded data removed]",
      "text/plain": [
       "<Figure size 1200x1200 with 1 Axes>"
      ]
     },
     "metadata": {},
     "output_type": "display_data"
    }
   ],
   "source": [
    "plt.figure(figsize=(12,12))\n",
    "data['cumulative_returns'].plot(label = 'Actual returns', color='darkblue')\n",
    "data['cumulative_strategy_returns'].plot(label = 'Strategy returns', color='burlywood')\n",
    "plt.legend()\n",
    "plt.ylabel('Cumulative Returns')"
   ]
  },
  {
   "cell_type": "code",
   "execution_count": 12,
   "id": "d94aa338",
   "metadata": {},
   "outputs": [
    {
     "name": "stdout",
     "output_type": "stream",
     "text": [
      "54.922197078909775\n",
      "Date\n",
      "2020-01-02         NaN\n",
      "2020-01-03    0.992428\n",
      "2020-01-06    0.996214\n",
      "2020-01-07    0.993413\n",
      "2020-01-08    0.998707\n",
      "                ...   \n",
      "2022-12-23    1.178656\n",
      "2022-12-27    1.174008\n",
      "2022-12-28    1.159418\n",
      "2022-12-29    1.180288\n",
      "2022-12-30    1.177179\n",
      "Name: cumulative_returns, Length: 756, dtype: float64\n"
     ]
    }
   ],
   "source": [
    "standard_dev= (data['Close'].std())\n",
    "returns = data['cumulative_returns'] \n",
    "\n",
    "\n",
    "print(standard_dev)\n",
    "print(returns)"
   ]
  },
  {
   "cell_type": "code",
   "execution_count": 13,
   "id": "8e3a98e9",
   "metadata": {},
   "outputs": [
    {
     "name": "stdout",
     "output_type": "stream",
     "text": [
      "54.922197078909775\n",
      "Date\n",
      "2020-01-02          NaN\n",
      "2020-01-03     1.000000\n",
      "2020-01-06     1.000000\n",
      "2020-01-07     1.000000\n",
      "2020-01-08     1.005330\n",
      "                ...    \n",
      "2022-12-23    19.171196\n",
      "2022-12-27    19.171196\n",
      "2022-12-28    19.171196\n",
      "2022-12-29    19.861371\n",
      "2022-12-30    19.966003\n",
      "Name: cumulative_strategy_returns, Length: 756, dtype: float64\n"
     ]
    }
   ],
   "source": [
    "standard_dev_strat= (data['Close'].std())\n",
    "returns_strat = data['cumulative_strategy_returns'] #data['strategy_returns'] #1.2 - 1.0/1.0\n",
    "\n",
    "print(standard_dev_strat)\n",
    "print(returns_strat)"
   ]
  },
  {
   "cell_type": "code",
   "execution_count": 14,
   "id": "2dc984ac",
   "metadata": {},
   "outputs": [
    {
     "name": "stdout",
     "output_type": "stream",
     "text": [
      "Date\n",
      "2020-01-02         NaN\n",
      "2020-01-03    0.018070\n",
      "2020-01-06    0.018139\n",
      "2020-01-07    0.018088\n",
      "2020-01-08    0.018184\n",
      "                ...   \n",
      "2022-12-23    0.021460\n",
      "2022-12-27    0.021376\n",
      "2022-12-28    0.021110\n",
      "2022-12-29    0.021490\n",
      "2022-12-30    0.021434\n",
      "Name: cumulative_returns, Length: 756, dtype: float64\n"
     ]
    }
   ],
   "source": [
    "sharpe_original = returns/standard_dev\n",
    "\n",
    "print(sharpe_original)"
   ]
  },
  {
   "cell_type": "code",
   "execution_count": 15,
   "id": "133a6d4c",
   "metadata": {},
   "outputs": [
    {
     "name": "stdout",
     "output_type": "stream",
     "text": [
      "Date\n",
      "2020-01-02         NaN\n",
      "2020-01-03    0.018208\n",
      "2020-01-06    0.018208\n",
      "2020-01-07    0.018208\n",
      "2020-01-08    0.018305\n",
      "                ...   \n",
      "2022-12-23    0.349061\n",
      "2022-12-27    0.349061\n",
      "2022-12-28    0.349061\n",
      "2022-12-29    0.361627\n",
      "2022-12-30    0.363532\n",
      "Name: cumulative_strategy_returns, Length: 756, dtype: float64\n"
     ]
    }
   ],
   "source": [
    "sharpe_strat = returns_strat/standard_dev_strat\n",
    "\n",
    "print(sharpe_strat)"
   ]
  },
  {
   "cell_type": "code",
   "execution_count": 16,
   "id": "87ec7a4a",
   "metadata": {},
   "outputs": [
    {
     "data": {
      "text/plain": [
       "Text(0, 0.5, 'Sharpe ratio]')"
      ]
     },
     "execution_count": 16,
     "metadata": {},
     "output_type": "execute_result"
    },
    {
     "data": {
      "image/png": "[encoded data removed]",
      "text/plain": [
       "<Figure size 1200x1200 with 1 Axes>"
      ]
     },
     "metadata": {},
     "output_type": "display_data"
    }
   ],
   "source": [
    "plt.figure(figsize=(12,12))\n",
    "sharpe_original.plot(label = 'Actual Sharpe ratio', color='darkblue')\n",
    "sharpe_strat.plot(label = 'Strategy Sharpe', color='red')\n",
    "plt.legend()\n",
    "plt.ylabel('Sharpe ratio]')"
   ]
  },
  {
   "cell_type": "code",
   "execution_count": null,
   "id": "387702a4",
   "metadata": {},
   "outputs": [],
   "source": []
  },
  {
   "cell_type": "code",
   "execution_count": null,
   "id": "a9bc97b9",
   "metadata": {},
   "outputs": [],
   "source": []
  }
 ],
 "metadata": {
  "kernelspec": {
   "display_name": "Python 3 (ipykernel)",
   "language": "python",
   "name": "python3"
  },
  "language_info": {
   "codemirror_mode": {
    "name": "ipython",
    "version": 3
   },
   "file_extension": ".py",
   "mimetype": "text/x-python",
   "name": "python",
   "nbconvert_exporter": "python",
   "pygments_lexer": "ipython3",
   "version": "3.10.9"
  }
 },
 "nbformat": 4,
 "nbformat_minor": 5
}
