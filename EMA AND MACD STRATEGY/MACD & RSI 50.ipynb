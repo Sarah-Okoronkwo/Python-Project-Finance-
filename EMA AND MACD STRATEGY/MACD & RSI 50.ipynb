{
 "cells": [
  {
   "cell_type": "code",
   "execution_count": 1,
   "id": "4bb738bb",
   "metadata": {},
   "outputs": [],
   "source": [
    "import talib\n",
    "\n",
    "import pandas_datareader.data as web\n",
    "import pandas as pd\n",
    "import numpy as np\n",
    "import matplotlib.pyplot as plt\n",
    "import yfinance as yf"
   ]
  },
  {
   "cell_type": "markdown",
   "id": "30eb4afc",
   "metadata": {},
   "source": [
    "## DEFINING INDICATORS\n",
    "This is a list of indicators provided by TA-Lib to develop your trading strategies."
   ]
  },
  {
   "cell_type": "code",
   "execution_count": 2,
   "id": "0f10517b",
   "metadata": {},
   "outputs": [
    {
     "ename": "SyntaxError",
     "evalue": "invalid syntax. Perhaps you forgot a comma? (667692244.py, line 1)",
     "output_type": "error",
     "traceback": [
      "\u001b[1;36m  Cell \u001b[1;32mIn[2], line 1\u001b[1;36m\u001b[0m\n\u001b[1;33m    Indicators [RSI, Only MACD Histogram(12, 26, 9)]\u001b[0m\n\u001b[1;37m                     ^\u001b[0m\n\u001b[1;31mSyntaxError\u001b[0m\u001b[1;31m:\u001b[0m invalid syntax. Perhaps you forgot a comma?\n"
     ]
    }
   ],
   "source": [
    "Indicators [RSI, Only MACD Histogram(12, 26, 9)]"
   ]
  },
  {
   "cell_type": "markdown",
   "id": "de688e57",
   "metadata": {},
   "source": [
    "# TRADING STRATEGY\n",
    "In this trading strategy, we define entry and exit conditions based on the selected indicators. The conditions are as follows:\n",
    "\n",
    "### Buy signal \n",
    "\n",
    " - Entry Condition:\n",
    "       - Condition 1:  Check if RSI crosses above the Zero line.\n",
    "       - Condition 2: Check if the MACD histogram crosses above the zero line.\n",
    "\n",
    " - Exit Condition:\n",
    "       - Condition 1: Check if the MACD histogram crosses below the zero line.\n",
    "\n",
    "\n",
    "### Sell signal \n",
    "\n",
    " - Entry Condition:\n",
    "       - Condition 1: Check if RSI crosses below the Zero line.\n",
    "       - Condition 2: Check if the MACD histogram crosses below the zero line.\n",
    "\n",
    " - Exit Condition:\n",
    "       - Condition 1:  Check if the MACD histogram crosses above the zero line.\n",
    "\n",
    "\n",
    "\n",
    "    \n",
    "    \n",
    "### Generating Signals:\n",
    "\n",
    "   - A DataFrame named signals is created to store the buy/sell signals.\n",
    "   - The 'positions' column is initialized with zeros (no position).\n",
    "   - The entry_condition is used to set the 'positions' value to 1 (buy signal) where the conditions are met.\n",
    "   - The exit_condition is used to set the 'positions' value to -1 (sell signal) where the condition is met."
   ]
  },
  {
   "cell_type": "code",
   "execution_count": 3,
   "id": "b92d1bae",
   "metadata": {},
   "outputs": [],
   "source": [
    "# Define your trading strategy\n",
    "def strategy(data):\n",
    "    # Define the entry and exit conditions for buy signal\n",
    "    condition1_buy = data['MACD'] > data['MACD_SIGNAL']\n",
    "\n",
    "    entry_condition_buy = condition1_buy \n",
    "    exit_condition_buy = data['RSI'] < 50\n",
    "\n",
    "    # Define the entry and exit conditions for sell signal\n",
    "    condition1_sell = data['MACD'] < data['MACD_SIGNAL']\n",
    "\n",
    "    entry_condition_sell = condition1_sell \n",
    "    exit_condition_sell = data['RSI'] > 50\n",
    "\n",
    "    # Generate the signals\n",
    "    signals = pd.DataFrame(index=data.index)\n",
    "    signals['positions'] = 0\n",
    "    signals.loc[entry_condition_buy, 'positions'] = 1\n",
    "    signals.loc[exit_condition_buy, 'positions'] = -1\n",
    "    signals.loc[entry_condition_sell, 'positions'] = -1\n",
    "    signals.loc[exit_condition_sell, 'positions'] = 1\n",
    "\n",
    "    return signals\n"
   ]
  },
  {
   "cell_type": "markdown",
   "id": "0a95e4f0",
   "metadata": {},
   "source": [
    "## HISTORICAL DATA\n",
    "Next, we download historical stock data for the specified symbol (in this case, 'SPY') from the start date to the end date using the yfinance library."
   ]
  },
  {
   "cell_type": "code",
   "execution_count": 4,
   "id": "5dbb4e88",
   "metadata": {},
   "outputs": [
    {
     "name": "stdout",
     "output_type": "stream",
     "text": [
      "[*********************100%***********************]  1 of 1 completed\n"
     ]
    }
   ],
   "source": [
    "symbol = 'SPY'\n",
    "start_date = '2020-01-01'\n",
    "end_date = '2023-01-01'\n",
    "\n",
    "data = yf.download(symbol, start_date, end_date)"
   ]
  },
  {
   "cell_type": "code",
   "execution_count": 5,
   "id": "3e38759e",
   "metadata": {},
   "outputs": [
    {
     "data": {
      "text/html": [
       "<div>\n",
       "<style scoped>\n",
       "    .dataframe tbody tr th:only-of-type {\n",
       "        vertical-align: middle;\n",
       "    }\n",
       "\n",
       "    .dataframe tbody tr th {\n",
       "        vertical-align: top;\n",
       "    }\n",
       "\n",
       "    .dataframe thead th {\n",
       "        text-align: right;\n",
       "    }\n",
       "</style>\n",
       "<table border=\"1\" class=\"dataframe\">\n",
       "  <thead>\n",
       "    <tr style=\"text-align: right;\">\n",
       "      <th></th>\n",
       "      <th>Open</th>\n",
       "      <th>High</th>\n",
       "      <th>Low</th>\n",
       "      <th>Close</th>\n",
       "      <th>Adj Close</th>\n",
       "      <th>Volume</th>\n",
       "    </tr>\n",
       "    <tr>\n",
       "      <th>Date</th>\n",
       "      <th></th>\n",
       "      <th></th>\n",
       "      <th></th>\n",
       "      <th></th>\n",
       "      <th></th>\n",
       "      <th></th>\n",
       "    </tr>\n",
       "  </thead>\n",
       "  <tbody>\n",
       "    <tr>\n",
       "      <th>2020-01-02</th>\n",
       "      <td>323.540009</td>\n",
       "      <td>324.890015</td>\n",
       "      <td>322.529999</td>\n",
       "      <td>324.869995</td>\n",
       "      <td>307.375641</td>\n",
       "      <td>59151200</td>\n",
       "    </tr>\n",
       "    <tr>\n",
       "      <th>2020-01-03</th>\n",
       "      <td>321.160004</td>\n",
       "      <td>323.640015</td>\n",
       "      <td>321.100006</td>\n",
       "      <td>322.410004</td>\n",
       "      <td>305.048157</td>\n",
       "      <td>77709700</td>\n",
       "    </tr>\n",
       "    <tr>\n",
       "      <th>2020-01-06</th>\n",
       "      <td>320.489990</td>\n",
       "      <td>323.730011</td>\n",
       "      <td>320.359985</td>\n",
       "      <td>323.640015</td>\n",
       "      <td>306.211884</td>\n",
       "      <td>55653900</td>\n",
       "    </tr>\n",
       "    <tr>\n",
       "      <th>2020-01-07</th>\n",
       "      <td>323.019989</td>\n",
       "      <td>323.540009</td>\n",
       "      <td>322.239990</td>\n",
       "      <td>322.730011</td>\n",
       "      <td>305.350922</td>\n",
       "      <td>40496400</td>\n",
       "    </tr>\n",
       "    <tr>\n",
       "      <th>2020-01-08</th>\n",
       "      <td>322.940002</td>\n",
       "      <td>325.779999</td>\n",
       "      <td>322.670013</td>\n",
       "      <td>324.450012</td>\n",
       "      <td>306.978333</td>\n",
       "      <td>68296000</td>\n",
       "    </tr>\n",
       "  </tbody>\n",
       "</table>\n",
       "</div>"
      ],
      "text/plain": [
       "                  Open        High         Low       Close   Adj Close  \\\n",
       "Date                                                                     \n",
       "2020-01-02  323.540009  324.890015  322.529999  324.869995  307.375641   \n",
       "2020-01-03  321.160004  323.640015  321.100006  322.410004  305.048157   \n",
       "2020-01-06  320.489990  323.730011  320.359985  323.640015  306.211884   \n",
       "2020-01-07  323.019989  323.540009  322.239990  322.730011  305.350922   \n",
       "2020-01-08  322.940002  325.779999  322.670013  324.450012  306.978333   \n",
       "\n",
       "              Volume  \n",
       "Date                  \n",
       "2020-01-02  59151200  \n",
       "2020-01-03  77709700  \n",
       "2020-01-06  55653900  \n",
       "2020-01-07  40496400  \n",
       "2020-01-08  68296000  "
      ]
     },
     "execution_count": 5,
     "metadata": {},
     "output_type": "execute_result"
    }
   ],
   "source": [
    "data.head()"
   ]
  },
  {
   "cell_type": "markdown",
   "id": "308b92bf",
   "metadata": {},
   "source": [
    "## CALCULATING INDICATORS\n"
   ]
  },
  {
   "cell_type": "code",
   "execution_count": 6,
   "id": "203fb588",
   "metadata": {},
   "outputs": [],
   "source": [
    "# Calculate the indicators\n",
    "\n",
    "# Calculate the RSI\n",
    "data['RSI'] = talib.RSI(data['Close'],)\n",
    "\n",
    "# Calculate MACD\n",
    "\n",
    "macd, macd_signal, macd_hist = talib.MACD(data['Close'], fastperiod=12, slowperiod=26, signalperiod=9)\n",
    "data['MACD'] = macd\n",
    "data['MACD_SIGNAL'] = macd_signal\n",
    "data['MACD_HIST'] = macd_hist"
   ]
  },
  {
   "cell_type": "code",
   "execution_count": 7,
   "id": "84791f28",
   "metadata": {},
   "outputs": [
    {
     "data": {
      "text/html": [
       "<div>\n",
       "<style scoped>\n",
       "    .dataframe tbody tr th:only-of-type {\n",
       "        vertical-align: middle;\n",
       "    }\n",
       "\n",
       "    .dataframe tbody tr th {\n",
       "        vertical-align: top;\n",
       "    }\n",
       "\n",
       "    .dataframe thead th {\n",
       "        text-align: right;\n",
       "    }\n",
       "</style>\n",
       "<table border=\"1\" class=\"dataframe\">\n",
       "  <thead>\n",
       "    <tr style=\"text-align: right;\">\n",
       "      <th></th>\n",
       "      <th>Open</th>\n",
       "      <th>High</th>\n",
       "      <th>Low</th>\n",
       "      <th>Close</th>\n",
       "      <th>Adj Close</th>\n",
       "      <th>Volume</th>\n",
       "      <th>RSI</th>\n",
       "      <th>MACD</th>\n",
       "      <th>MACD_SIGNAL</th>\n",
       "      <th>MACD_HIST</th>\n",
       "    </tr>\n",
       "    <tr>\n",
       "      <th>Date</th>\n",
       "      <th></th>\n",
       "      <th></th>\n",
       "      <th></th>\n",
       "      <th></th>\n",
       "      <th></th>\n",
       "      <th></th>\n",
       "      <th></th>\n",
       "      <th></th>\n",
       "      <th></th>\n",
       "      <th></th>\n",
       "    </tr>\n",
       "  </thead>\n",
       "  <tbody>\n",
       "    <tr>\n",
       "      <th>2020-05-14</th>\n",
       "      <td>278.950012</td>\n",
       "      <td>285.109985</td>\n",
       "      <td>272.989990</td>\n",
       "      <td>284.970001</td>\n",
       "      <td>271.209686</td>\n",
       "      <td>121977900</td>\n",
       "      <td>52.160038</td>\n",
       "      <td>3.236291</td>\n",
       "      <td>3.805883</td>\n",
       "      <td>-0.569592</td>\n",
       "    </tr>\n",
       "    <tr>\n",
       "      <th>2021-09-30</th>\n",
       "      <td>436.019989</td>\n",
       "      <td>436.769989</td>\n",
       "      <td>428.779999</td>\n",
       "      <td>429.140015</td>\n",
       "      <td>417.659332</td>\n",
       "      <td>140506000</td>\n",
       "      <td>33.958065</td>\n",
       "      <td>-2.847603</td>\n",
       "      <td>-1.282862</td>\n",
       "      <td>-1.564741</td>\n",
       "    </tr>\n",
       "    <tr>\n",
       "      <th>2020-09-03</th>\n",
       "      <td>355.869995</td>\n",
       "      <td>356.380005</td>\n",
       "      <td>342.589996</td>\n",
       "      <td>345.390015</td>\n",
       "      <td>330.158813</td>\n",
       "      <td>148011100</td>\n",
       "      <td>57.629873</td>\n",
       "      <td>6.630324</td>\n",
       "      <td>6.376898</td>\n",
       "      <td>0.253426</td>\n",
       "    </tr>\n",
       "    <tr>\n",
       "      <th>2020-07-16</th>\n",
       "      <td>319.790009</td>\n",
       "      <td>321.279999</td>\n",
       "      <td>319.089996</td>\n",
       "      <td>320.790009</td>\n",
       "      <td>306.643616</td>\n",
       "      <td>54622500</td>\n",
       "      <td>60.430244</td>\n",
       "      <td>3.974949</td>\n",
       "      <td>3.379105</td>\n",
       "      <td>0.595844</td>\n",
       "    </tr>\n",
       "    <tr>\n",
       "      <th>2022-03-22</th>\n",
       "      <td>445.859985</td>\n",
       "      <td>450.579987</td>\n",
       "      <td>445.859985</td>\n",
       "      <td>449.589996</td>\n",
       "      <td>440.463593</td>\n",
       "      <td>74650400</td>\n",
       "      <td>59.609859</td>\n",
       "      <td>0.165409</td>\n",
       "      <td>-3.339382</td>\n",
       "      <td>3.504791</td>\n",
       "    </tr>\n",
       "  </tbody>\n",
       "</table>\n",
       "</div>"
      ],
      "text/plain": [
       "                  Open        High         Low       Close   Adj Close  \\\n",
       "Date                                                                     \n",
       "2020-05-14  278.950012  285.109985  272.989990  284.970001  271.209686   \n",
       "2021-09-30  436.019989  436.769989  428.779999  429.140015  417.659332   \n",
       "2020-09-03  355.869995  356.380005  342.589996  345.390015  330.158813   \n",
       "2020-07-16  319.790009  321.279999  319.089996  320.790009  306.643616   \n",
       "2022-03-22  445.859985  450.579987  445.859985  449.589996  440.463593   \n",
       "\n",
       "               Volume        RSI      MACD  MACD_SIGNAL  MACD_HIST  \n",
       "Date                                                                \n",
       "2020-05-14  121977900  52.160038  3.236291     3.805883  -0.569592  \n",
       "2021-09-30  140506000  33.958065 -2.847603    -1.282862  -1.564741  \n",
       "2020-09-03  148011100  57.629873  6.630324     6.376898   0.253426  \n",
       "2020-07-16   54622500  60.430244  3.974949     3.379105   0.595844  \n",
       "2022-03-22   74650400  59.609859  0.165409    -3.339382   3.504791  "
      ]
     },
     "execution_count": 7,
     "metadata": {},
     "output_type": "execute_result"
    }
   ],
   "source": [
    "data.sample(5)"
   ]
  },
  {
   "cell_type": "markdown",
   "id": "a049d4a6",
   "metadata": {},
   "source": [
    "## STRATEGY AND BACKTESTING\n",
    "This section applies the trading strategy to the data and backtests it. It generates buy/sell signals based on the strategy's entry and exit conditions. Then, it calculates the portfolio by taking the difference of positions (signals_1['positions'].diff()) and initializes the first position. It also calculates the returns, strategy returns (returns multiplied by portfolio), and cumulative returns. Finally, it prints the cumulative returns and plots them."
   ]
  },
  {
   "cell_type": "code",
   "execution_count": 8,
   "id": "4b5cf0f4",
   "metadata": {},
   "outputs": [],
   "source": [
    "signals_1 = strategy(data) "
   ]
  },
  {
   "cell_type": "code",
   "execution_count": 9,
   "id": "59b7ff60",
   "metadata": {},
   "outputs": [
    {
     "data": {
      "text/html": [
       "<div>\n",
       "<style scoped>\n",
       "    .dataframe tbody tr th:only-of-type {\n",
       "        vertical-align: middle;\n",
       "    }\n",
       "\n",
       "    .dataframe tbody tr th {\n",
       "        vertical-align: top;\n",
       "    }\n",
       "\n",
       "    .dataframe thead th {\n",
       "        text-align: right;\n",
       "    }\n",
       "</style>\n",
       "<table border=\"1\" class=\"dataframe\">\n",
       "  <thead>\n",
       "    <tr style=\"text-align: right;\">\n",
       "      <th></th>\n",
       "      <th>positions</th>\n",
       "    </tr>\n",
       "    <tr>\n",
       "      <th>Date</th>\n",
       "      <th></th>\n",
       "    </tr>\n",
       "  </thead>\n",
       "  <tbody>\n",
       "    <tr>\n",
       "      <th>2020-01-23</th>\n",
       "      <td>1</td>\n",
       "    </tr>\n",
       "    <tr>\n",
       "      <th>2020-01-24</th>\n",
       "      <td>1</td>\n",
       "    </tr>\n",
       "    <tr>\n",
       "      <th>2020-01-27</th>\n",
       "      <td>-1</td>\n",
       "    </tr>\n",
       "    <tr>\n",
       "      <th>2020-01-28</th>\n",
       "      <td>1</td>\n",
       "    </tr>\n",
       "    <tr>\n",
       "      <th>2020-01-29</th>\n",
       "      <td>1</td>\n",
       "    </tr>\n",
       "    <tr>\n",
       "      <th>...</th>\n",
       "      <td>...</td>\n",
       "    </tr>\n",
       "    <tr>\n",
       "      <th>2022-12-23</th>\n",
       "      <td>-1</td>\n",
       "    </tr>\n",
       "    <tr>\n",
       "      <th>2022-12-27</th>\n",
       "      <td>-1</td>\n",
       "    </tr>\n",
       "    <tr>\n",
       "      <th>2022-12-28</th>\n",
       "      <td>-1</td>\n",
       "    </tr>\n",
       "    <tr>\n",
       "      <th>2022-12-29</th>\n",
       "      <td>-1</td>\n",
       "    </tr>\n",
       "    <tr>\n",
       "      <th>2022-12-30</th>\n",
       "      <td>-1</td>\n",
       "    </tr>\n",
       "  </tbody>\n",
       "</table>\n",
       "<p>742 rows × 1 columns</p>\n",
       "</div>"
      ],
      "text/plain": [
       "            positions\n",
       "Date                 \n",
       "2020-01-23          1\n",
       "2020-01-24          1\n",
       "2020-01-27         -1\n",
       "2020-01-28          1\n",
       "2020-01-29          1\n",
       "...               ...\n",
       "2022-12-23         -1\n",
       "2022-12-27         -1\n",
       "2022-12-28         -1\n",
       "2022-12-29         -1\n",
       "2022-12-30         -1\n",
       "\n",
       "[742 rows x 1 columns]"
      ]
     },
     "execution_count": 9,
     "metadata": {},
     "output_type": "execute_result"
    }
   ],
   "source": [
    "signals_1[(signals_1['positions'] == 1) | (signals_1['positions']==-1)]"
   ]
  },
  {
   "cell_type": "code",
   "execution_count": 10,
   "id": "b2e4f738",
   "metadata": {},
   "outputs": [],
   "source": [
    "portfolio = signals_1['positions'].diff()\n",
    "\n",
    "portfolio.iloc[0] = signals_1['positions'].iloc[0]\n",
    "\n",
    "data['portfolio'] = portfolio\n",
    "\n",
    "data['returns'] = data['Close'].pct_change()\n",
    "data['strategy_returns'] = data['returns']*data['portfolio']\n",
    "\n",
    "data['cumulative_strategy_returns'] = (1 + data['strategy_returns']).cumprod()\n",
    "data['cumulative_returns'] = (1 + data['returns']).cumprod()"
   ]
  },
  {
   "cell_type": "code",
   "execution_count": 11,
   "id": "6245c38c",
   "metadata": {},
   "outputs": [
    {
     "data": {
      "text/plain": [
       "Text(0, 0.5, 'Cumulative Returns')"
      ]
     },
     "execution_count": 11,
     "metadata": {},
     "output_type": "execute_result"
    },
    {
     "data": {
      "image/png": "[encoded data removed]",
      "text/plain": [
       "<Figure size 1200x1200 with 1 Axes>"
      ]
     },
     "metadata": {},
     "output_type": "display_data"
    }
   ],
   "source": [
    "plt.figure(figsize=(12,12))\n",
    "data['cumulative_returns'].plot(label = 'Actual returns', color='darkblue')\n",
    "data['cumulative_strategy_returns'].plot(label = 'Strategy returns', color='burlywood')\n",
    "plt.legend()\n",
    "plt.ylabel('Cumulative Returns')"
   ]
  },
  {
   "cell_type": "code",
   "execution_count": 12,
   "id": "d94aa338",
   "metadata": {},
   "outputs": [
    {
     "name": "stdout",
     "output_type": "stream",
     "text": [
      "54.922197078909775\n",
      "Date\n",
      "2020-01-02         NaN\n",
      "2020-01-03    0.992428\n",
      "2020-01-06    0.996214\n",
      "2020-01-07    0.993413\n",
      "2020-01-08    0.998707\n",
      "                ...   \n",
      "2022-12-23    1.178656\n",
      "2022-12-27    1.174008\n",
      "2022-12-28    1.159418\n",
      "2022-12-29    1.180288\n",
      "2022-12-30    1.177179\n",
      "Name: cumulative_returns, Length: 756, dtype: float64\n"
     ]
    }
   ],
   "source": [
    "standard_dev= (data['Close'].std())\n",
    "returns = data['cumulative_returns'] \n",
    "\n",
    "\n",
    "print(standard_dev)\n",
    "print(returns)"
   ]
  },
  {
   "cell_type": "code",
   "execution_count": 13,
   "id": "8e3a98e9",
   "metadata": {},
   "outputs": [
    {
     "name": "stdout",
     "output_type": "stream",
     "text": [
      "54.922197078909775\n",
      "Date\n",
      "2020-01-02          NaN\n",
      "2020-01-03     1.000000\n",
      "2020-01-06     1.000000\n",
      "2020-01-07     1.000000\n",
      "2020-01-08     1.000000\n",
      "                ...    \n",
      "2022-12-23    17.185937\n",
      "2022-12-27    17.185937\n",
      "2022-12-28    17.185937\n",
      "2022-12-29    17.185937\n",
      "2022-12-30    17.185937\n",
      "Name: cumulative_strategy_returns, Length: 756, dtype: float64\n"
     ]
    }
   ],
   "source": [
    "standard_dev_strat= (data['Close'].std())\n",
    "returns_strat = data['cumulative_strategy_returns'] #data['strategy_returns'] #1.2 - 1.0/1.0\n",
    "\n",
    "print(standard_dev_strat)\n",
    "print(returns_strat)"
   ]
  },
  {
   "cell_type": "code",
   "execution_count": 14,
   "id": "2dc984ac",
   "metadata": {},
   "outputs": [
    {
     "name": "stdout",
     "output_type": "stream",
     "text": [
      "Date\n",
      "2020-01-02         NaN\n",
      "2020-01-03    0.018070\n",
      "2020-01-06    0.018139\n",
      "2020-01-07    0.018088\n",
      "2020-01-08    0.018184\n",
      "                ...   \n",
      "2022-12-23    0.021460\n",
      "2022-12-27    0.021376\n",
      "2022-12-28    0.021110\n",
      "2022-12-29    0.021490\n",
      "2022-12-30    0.021434\n",
      "Name: cumulative_returns, Length: 756, dtype: float64\n"
     ]
    }
   ],
   "source": [
    "sharpe_original = returns/standard_dev\n",
    "\n",
    "print(sharpe_original)"
   ]
  },
  {
   "cell_type": "code",
   "execution_count": 15,
   "id": "133a6d4c",
   "metadata": {},
   "outputs": [
    {
     "name": "stdout",
     "output_type": "stream",
     "text": [
      "Date\n",
      "2020-01-02         NaN\n",
      "2020-01-03    0.018208\n",
      "2020-01-06    0.018208\n",
      "2020-01-07    0.018208\n",
      "2020-01-08    0.018208\n",
      "                ...   \n",
      "2022-12-23    0.312914\n",
      "2022-12-27    0.312914\n",
      "2022-12-28    0.312914\n",
      "2022-12-29    0.312914\n",
      "2022-12-30    0.312914\n",
      "Name: cumulative_strategy_returns, Length: 756, dtype: float64\n"
     ]
    }
   ],
   "source": [
    "sharpe_strat = returns_strat/standard_dev_strat\n",
    "\n",
    "print(sharpe_strat)"
   ]
  },
  {
   "cell_type": "code",
   "execution_count": 16,
   "id": "f86d1d1b",
   "metadata": {},
   "outputs": [
    {
     "data": {
      "text/plain": [
       "Text(0, 0.5, 'Sharpe ratio]')"
      ]
     },
     "execution_count": 16,
     "metadata": {},
     "output_type": "execute_result"
    },
    {
     "data": {
      "image/png": "[encoded data removed]",
      "text/plain": [
       "<Figure size 1200x1200 with 1 Axes>"
      ]
     },
     "metadata": {},
     "output_type": "display_data"
    }
   ],
   "source": [
    "plt.figure(figsize=(12,12))\n",
    "sharpe_original.plot(label = 'Actual Sharpe ratio', color='darkblue')\n",
    "sharpe_strat.plot(label = 'Strategy Sharpe', color='red')\n",
    "plt.legend()\n",
    "plt.ylabel('Sharpe ratio]')"
   ]
  },
  {
   "cell_type": "code",
   "execution_count": null,
   "id": "68c6ff6d",
   "metadata": {},
   "outputs": [],
   "source": []
  }
 ],
 "metadata": {
  "kernelspec": {
   "display_name": "Python 3 (ipykernel)",
   "language": "python",
   "name": "python3"
  },
  "language_info": {
   "codemirror_mode": {
    "name": "ipython",
    "version": 3
   },
   "file_extension": ".py",
   "mimetype": "text/x-python",
   "name": "python",
   "nbconvert_exporter": "python",
   "pygments_lexer": "ipython3",
   "version": "3.10.9"
  }
 },
 "nbformat": 4,
 "nbformat_minor": 5
}
